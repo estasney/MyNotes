{
 "cells": [
  {
   "cell_type": "markdown",
   "metadata": {},
   "source": [
    "# Windows `whereis` Equivalent\n",
    "`whereis` is useful on Unix. Windows offers `where`. An example of finding where Chrome is installed from command prompt:\n",
    "\n",
    "```bash\n",
    "where /R \"C:\\Program Files (x86)\" chrome.exe\n",
    "```\n",
    "\n",
    "Below, `run_where` opens a shell and executes this command. One limitation I noticed with `where` is that a wildcard is not allowed for the starting directory.\n",
    "For instance, Chrome could be in \"Program Files\" or \"Program Files (x86)\". "
   ]
  },
  {
   "cell_type": "code",
   "execution_count": 2,
   "metadata": {
    "pycharm": {
     "is_executing": false,
     "name": "#%%\n"
    }
   },
   "outputs": [],
   "source": [
    "import subprocess\n",
    "\n",
    "def run_where(starting_dir, pattern, recursive=True):\n",
    "    args = ['where']\n",
    "    if recursive:\n",
    "        args.append(\"/R\")\n",
    "    args.extend([starting_dir, pattern])\n",
    "    with subprocess.Popen(args, stdout=subprocess.PIPE, stdin=subprocess.PIPE, shell=True) as p:\n",
    "        result, _ = p.communicate()\n",
    "    return result.decode().strip()"
   ]
  },
  {
   "cell_type": "markdown",
   "metadata": {},
   "source": [
    "Python's `glob` module is much simpler to use. Let's compare timings:"
   ]
  },
  {
   "cell_type": "code",
   "execution_count": 6,
   "metadata": {
    "pycharm": {
     "is_executing": false,
     "name": "#%%\n"
    }
   },
   "outputs": [
    {
     "name": "stdout",
     "output_type": "stream",
     "text": [
      "1.4 s ± 300 ms per loop (mean ± std. dev. of 50 runs, 1 loop each)\n"
     ]
    }
   ],
   "source": [
    "%timeit -r 50 run_where(r\"C:\\Program Files (x86)\", \"chrome.exe\")"
   ]
  },
  {
   "cell_type": "code",
   "execution_count": 7,
   "metadata": {
    "pycharm": {
     "is_executing": false,
     "name": "#%%\n"
    }
   },
   "outputs": [
    {
     "name": "stdout",
     "output_type": "stream",
     "text": [
      "1.38 s ± 303 ms per loop (mean ± std. dev. of 50 runs, 1 loop each)\n"
     ]
    }
   ],
   "source": [
    "import glob\n",
    "%timeit -r 50 glob.glob(r\"C:\\Program Files (x86)\\**\\chrome.exe\", recursive=True)"
   ]
  }
 ],
 "metadata": {
  "celltoolbar": "Tags",
  "kernelspec": {
   "display_name": "Python 3",
   "language": "python",
   "name": "python3"
  },
  "language_info": {
   "codemirror_mode": {
    "name": "ipython",
    "version": 3
   },
   "file_extension": ".py",
   "mimetype": "text/x-python",
   "name": "python",
   "nbconvert_exporter": "python",
   "pygments_lexer": "ipython3",
   "version": "3.7.3"
  },
  "pycharm": {
   "stem_cell": {
    "cell_type": "raw",
    "source": [],
    "metadata": {
     "collapsed": false
    }
   }
  }
 },
 "nbformat": 4,
 "nbformat_minor": 1
}