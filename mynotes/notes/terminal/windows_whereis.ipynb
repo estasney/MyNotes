{
 "cells": [
  {
   "cell_type": "code",
   "execution_count": null,
   "metadata": {
    "collapsed": true
   },
   "outputs": [],
   "source": []
  },
  {
   "cell_type": "markdown",
   "source": [
    "`whereis` is useful on Unix. Windows offers `where`. An example of finding where Chrome is installed from command prompt:\n",
    "\n",
    "```bash\n",
    "where /R \"C:\\Program Files (x86)\" chrome.exe\n",
    "```"
   ],
   "metadata": {
    "collapsed": false
   }
  },
  {
   "cell_type": "code",
   "execution_count": 2,
   "outputs": [],
   "source": [
    "import subprocess\n",
    "\n",
    "def run_where(starting_dir, pattern, recursive=True):\n",
    "    args = ['where']\n",
    "    if recursive:\n",
    "        args.append(\"/R\")\n",
    "    args.extend([starting_dir, pattern])\n",
    "    with subprocess.Popen(args, stdout=subprocess.PIPE, stdin=subprocess.PIPE, shell=True) as p:\n",
    "        result, _ = p.communicate()\n",
    "    return result.decode().strip()\n",
    "    \n",
    "\n",
    "\n",
    "\n"
   ],
   "metadata": {
    "collapsed": false,
    "pycharm": {
     "name": "#%%\n",
     "is_executing": false
    }
   }
  }
 ],
 "metadata": {
  "kernelspec": {
   "display_name": "Python 3",
   "language": "python",
   "name": "python3"
  },
  "language_info": {
   "codemirror_mode": {
    "name": "ipython",
    "version": 2
   },
   "file_extension": ".py",
   "mimetype": "text/x-python",
   "name": "python",
   "nbconvert_exporter": "python",
   "pygments_lexer": "ipython2",
   "version": "2.7.6"
  },
  "pycharm": {
   "stem_cell": {
    "cell_type": "raw",
    "source": [],
    "metadata": {
     "collapsed": false
    }
   }
  }
 },
 "nbformat": 4,
 "nbformat_minor": 0
}