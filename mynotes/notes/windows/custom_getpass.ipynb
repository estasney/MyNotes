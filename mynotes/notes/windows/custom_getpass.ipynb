{
 "cells": [
  {
   "cell_type": "markdown",
   "metadata": {
    "collapsed": false,
    "pycharm": {
     "name": "#%% md\n"
    }
   },
   "source": [
    "# Masking Input on Windows\n",
    "*Masking password input with feedback*\n",
    "\n",
    "If an application asks a user for sensitive information from the command line, ideally one should be able to do this:\n",
    "\n",
    "```python\n",
    "username = input(\"Username\")\n",
    "password = input(\"Password\", masked=True)  # error\n",
    "```\n",
    "\n",
    "However, that's not supported. Python offers the `getpass` module which is like this:\n",
    "\n",
    "```python\n",
    "import getpass\n",
    "password = getpass.getpass(\"Password\")\n",
    "Password\n",
    "```\n",
    "While this effectively hides the password, I prefer to give feedback on how many characters have been entered (indicated with '*')\n",
    "\n",
    "<created>06/20/20</created>\n",
    "<updated>04/29/21</updated>"
   ]
  },
  {
   "cell_type": "code",
   "execution_count": null,
   "metadata": {
    "collapsed": true,
    "pycharm": {
     "name": "#%%\n"
    }
   },
   "outputs": [],
   "source": [
    "import msvcrt\n",
    "\n",
    "def win_getpass(prompt='Password: ', stream=None, placeholder=\"*\"):\n",
    "    \"\"\"Prompt for password with echo off, using Windows getch().\"\"\"\n",
    "    for c in prompt:\n",
    "        msvcrt.putwch(c)\n",
    "    pw = \"\"\n",
    "    while 1:\n",
    "        c = msvcrt.getwch()\n",
    "        if c == '\\r' or c == '\\n':\n",
    "            break\n",
    "        if c == '\\003':\n",
    "            raise KeyboardInterrupt\n",
    "        if c == '\\b':\n",
    "            # User enters the backspace key\n",
    "            pw = pw[:-1]\n",
    "            # Move one character left\n",
    "            msvcrt.putwch('\\b')\n",
    "            # Overwrite placeholder with whitespace\n",
    "            msvcrt.putwch(' ')\n",
    "            # Move one character left, again\n",
    "            msvcrt.putwch('\\b')\n",
    "        else:\n",
    "            pw = pw + c\n",
    "            msvcrt.putwch(placeholder)\n",
    "    msvcrt.putwch('\\r')\n",
    "    msvcrt.putwch('\\n')\n",
    "    return pw\n"
   ]
  }
 ],
 "metadata": {
  "kernelspec": {
   "display_name": "Python 3",
   "language": "python",
   "name": "python3"
  },
  "language_info": {
   "codemirror_mode": {
    "name": "ipython",
    "version": 2
   },
   "file_extension": ".py",
   "mimetype": "text/x-python",
   "name": "python",
   "nbconvert_exporter": "python",
   "pygments_lexer": "ipython2",
   "version": "2.7.6"
  }
 },
 "nbformat": 4,
 "nbformat_minor": 0
}