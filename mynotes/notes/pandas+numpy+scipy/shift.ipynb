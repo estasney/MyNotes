{
 "cells": [
  {
   "cell_type": "markdown",
   "metadata": {
    "collapsed": true,
    "pycharm": {
     "name": "#%% md\n"
    }
   },
   "source": [
    "# Filter by offset\n",
    "*Filter by relative offset*\n",
    "\n",
    "What this means is best demonstrated by an example problem:\n",
    "\n",
    "> Suppose you have a DataFrame of user statuses. You'd like to find instances where a user changes from 'active' to 'inactive' (as opposed to 'inactive' to 'active')\n"
   ]
  },
  {
   "cell_type": "code",
   "execution_count": 1,
   "outputs": [
    {
     "data": {
      "text/plain": "     status\n0    active\n1    active\n2   meeting\n3    active\n4  inactive",
      "text/html": "<div>\n<style scoped>\n    .dataframe tbody tr th:only-of-type {\n        vertical-align: middle;\n    }\n\n    .dataframe tbody tr th {\n        vertical-align: top;\n    }\n\n    .dataframe thead th {\n        text-align: right;\n    }\n</style>\n<table border=\"1\" class=\"dataframe\">\n  <thead>\n    <tr style=\"text-align: right;\">\n      <th></th>\n      <th>status</th>\n    </tr>\n  </thead>\n  <tbody>\n    <tr>\n      <td>0</td>\n      <td>active</td>\n    </tr>\n    <tr>\n      <td>1</td>\n      <td>active</td>\n    </tr>\n    <tr>\n      <td>2</td>\n      <td>meeting</td>\n    </tr>\n    <tr>\n      <td>3</td>\n      <td>active</td>\n    </tr>\n    <tr>\n      <td>4</td>\n      <td>inactive</td>\n    </tr>\n  </tbody>\n</table>\n</div>"
     },
     "execution_count": 1,
     "metadata": {},
     "output_type": "execute_result"
    }
   ],
   "source": [
    "import pandas as pd\n",
    "import numpy as np\n",
    "\n",
    "# Make a sample dataset\n",
    "\n",
    "user_states = [\"active\", \"inactive\", \"meeting\", \"do not disturb\"]\n",
    "\n",
    "df = pd.DataFrame(np.random.choice(user_states, size=1000), columns=['status'])\n",
    "df.head(5)"
   ],
   "metadata": {
    "collapsed": false,
    "pycharm": {
     "name": "#%%\n"
    }
   }
  },
  {
   "cell_type": "markdown",
   "source": [
    "### Shift Operator\n",
    "[Shift Docs](https://pandas.pydata.org/pandas-docs/stable/reference/api/pandas.Series.shift.html?highlight=series%20shift#pandas.Series.shift)\n",
    "\n",
    "We know we can find where a row is active with:\n",
    "\n",
    "```python\n",
    "df.loc[df.status == 'active']\n",
    "```\n",
    "\n",
    "To express the idea of 'then changes to inactive':\n",
    "\n",
    "```python\n",
    "df.loc[df.status.shift(-1) == 'inactive']\n",
    "```\n",
    "\n",
    "Does the `-1` surprise you? In reality, we aren't 'jumping' to another row with shift. We're shifting some row into the index of the row currently being evaluated.\n",
    "\n",
    "In this case it means we take the following row and shift it back by -1 to place it into our scope."
   ],
   "metadata": {
    "collapsed": false,
    "pycharm": {
     "name": "#%% md\n"
    }
   }
  },
  {
   "cell_type": "code",
   "execution_count": 2,
   "outputs": [
    {
     "data": {
      "text/plain": "     status\n3    active\n9    active\n40   active\n42   active\n48   active\n..      ...\n937  active\n939  active\n943  active\n993  active\n997  active\n\n[69 rows x 1 columns]",
      "text/html": "<div>\n<style scoped>\n    .dataframe tbody tr th:only-of-type {\n        vertical-align: middle;\n    }\n\n    .dataframe tbody tr th {\n        vertical-align: top;\n    }\n\n    .dataframe thead th {\n        text-align: right;\n    }\n</style>\n<table border=\"1\" class=\"dataframe\">\n  <thead>\n    <tr style=\"text-align: right;\">\n      <th></th>\n      <th>status</th>\n    </tr>\n  </thead>\n  <tbody>\n    <tr>\n      <td>3</td>\n      <td>active</td>\n    </tr>\n    <tr>\n      <td>9</td>\n      <td>active</td>\n    </tr>\n    <tr>\n      <td>40</td>\n      <td>active</td>\n    </tr>\n    <tr>\n      <td>42</td>\n      <td>active</td>\n    </tr>\n    <tr>\n      <td>48</td>\n      <td>active</td>\n    </tr>\n    <tr>\n      <td>...</td>\n      <td>...</td>\n    </tr>\n    <tr>\n      <td>937</td>\n      <td>active</td>\n    </tr>\n    <tr>\n      <td>939</td>\n      <td>active</td>\n    </tr>\n    <tr>\n      <td>943</td>\n      <td>active</td>\n    </tr>\n    <tr>\n      <td>993</td>\n      <td>active</td>\n    </tr>\n    <tr>\n      <td>997</td>\n      <td>active</td>\n    </tr>\n  </tbody>\n</table>\n<p>69 rows × 1 columns</p>\n</div>"
     },
     "execution_count": 2,
     "metadata": {},
     "output_type": "execute_result"
    }
   ],
   "source": [
    "matched_idx = df.loc[(df.status == 'active') & (df.status.shift(-1) == 'inactive')].index\n",
    "\n",
    "df.loc[matched_idx]"
   ],
   "metadata": {
    "collapsed": false,
    "pycharm": {
     "name": "#%%\n"
    }
   }
  },
  {
   "cell_type": "markdown",
   "source": [
    "### Shifted Index\n",
    "\n",
    "While this correctly selects the rows that met our condition we'd also like to see the 'inactive' row as well.\n",
    "\n",
    "Here's how"
   ],
   "metadata": {
    "collapsed": false,
    "pycharm": {
     "name": "#%% md\n"
    }
   }
  },
  {
   "cell_type": "code",
   "execution_count": 3,
   "outputs": [
    {
     "data": {
      "text/plain": "       status\n3      active\n4    inactive\n9      active\n10   inactive\n40     active\n..        ...\n944  inactive\n993    active\n994  inactive\n997    active\n998  inactive\n\n[138 rows x 1 columns]",
      "text/html": "<div>\n<style scoped>\n    .dataframe tbody tr th:only-of-type {\n        vertical-align: middle;\n    }\n\n    .dataframe tbody tr th {\n        vertical-align: top;\n    }\n\n    .dataframe thead th {\n        text-align: right;\n    }\n</style>\n<table border=\"1\" class=\"dataframe\">\n  <thead>\n    <tr style=\"text-align: right;\">\n      <th></th>\n      <th>status</th>\n    </tr>\n  </thead>\n  <tbody>\n    <tr>\n      <td>3</td>\n      <td>active</td>\n    </tr>\n    <tr>\n      <td>4</td>\n      <td>inactive</td>\n    </tr>\n    <tr>\n      <td>9</td>\n      <td>active</td>\n    </tr>\n    <tr>\n      <td>10</td>\n      <td>inactive</td>\n    </tr>\n    <tr>\n      <td>40</td>\n      <td>active</td>\n    </tr>\n    <tr>\n      <td>...</td>\n      <td>...</td>\n    </tr>\n    <tr>\n      <td>944</td>\n      <td>inactive</td>\n    </tr>\n    <tr>\n      <td>993</td>\n      <td>active</td>\n    </tr>\n    <tr>\n      <td>994</td>\n      <td>inactive</td>\n    </tr>\n    <tr>\n      <td>997</td>\n      <td>active</td>\n    </tr>\n    <tr>\n      <td>998</td>\n      <td>inactive</td>\n    </tr>\n  </tbody>\n</table>\n<p>138 rows × 1 columns</p>\n</div>"
     },
     "execution_count": 3,
     "metadata": {},
     "output_type": "execute_result"
    }
   ],
   "source": [
    "matched_idx_pairs = matched_idx.union(matched_idx + 1)\n",
    "\n",
    "df.loc[matched_idx_pairs]"
   ],
   "metadata": {
    "collapsed": false,
    "pycharm": {
     "name": "#%%\n"
    }
   }
  }
 ],
 "metadata": {
  "kernelspec": {
   "display_name": "Python 3",
   "language": "python",
   "name": "python3"
  },
  "language_info": {
   "codemirror_mode": {
    "name": "ipython",
    "version": 2
   },
   "file_extension": ".py",
   "mimetype": "text/x-python",
   "name": "python",
   "nbconvert_exporter": "python",
   "pygments_lexer": "ipython2",
   "version": "2.7.6"
  }
 },
 "nbformat": 4,
 "nbformat_minor": 0
}