{
 "cells": [
  {
   "cell_type": "markdown",
   "source": [
    "# Building Parameters Programatically\n",
    "*With Arrays*"
   ],
   "metadata": {
    "collapsed": false
   }
  },
  {
   "cell_type": "markdown",
   "source": [
    "Some programs, like ffmpeg, can take *a lot* of command line parameters.\n",
    "\n",
    "I had written a <keyword>bash</keyword> [script](https://estasney.github.io/MyNotes/multimedia/ffmpeg_mosaic.html) that I wanted to be able to call with different parameters.\n",
    "\n",
    "As I found out, when we use a variable in bash like this:\n",
    "\n",
    "```bash\n",
    "FORMAT='-qscale:v 2 -f rtsp'```\n",
    "\n",
    "When we call it, it is interpreted like this:\n",
    "\n",
    "```bash\n",
    "-qscale:v (2, -f, rtsp)```\n",
    "\n",
    "```bash\n",
    "-qscale:v is passed 2, -f, and rtsp```"
   ],
   "metadata": {
    "collapsed": false,
    "pycharm": {
     "name": "#%% md\n"
    }
   }
  },
  {
   "cell_type": "markdown",
   "source": [
    "Thanks to this [post](https://unix.stackexchange.com/a/152554/390145) for explaining to use arrays.\n",
    "\n",
    "So to get the correct behavior\n",
    "\n",
    "```bash\n",
    "PARAMS=(-qscale:v)\n",
    "PARAMS+=(2)\n",
    "PARAMS+=(-f)\n",
    "PARAMS+=(rtsp)\n",
    "```\n",
    "\n",
    "Or Simply\n",
    "```bash\n",
    "PARAMS=(-qscale:v 2 -f rtsp)\n",
    "```\n",
    "\n",
    "And to 'unpack':\n",
    "\n",
    "```bash\n",
    "\"${PARAMS[@]}\"\n",
    "```\n",
    "\n",
    "Which I found very similar to Python equivalent of:\n",
    "\n",
    "```python\n",
    "PARAMS=['-qscale:v', '2', '-f', 'rtsp']\n",
    "subprocess.Popen(['ffmpeg', *PARAMS])\n",
    "```"
   ],
   "metadata": {
    "collapsed": false,
    "pycharm": {
     "name": "#%% md\n"
    }
   }
  }
 ],
 "metadata": {
  "kernelspec": {
   "display_name": "Python 3",
   "language": "python",
   "name": "python3"
  },
  "language_info": {
   "codemirror_mode": {
    "name": "ipython",
    "version": 2
   },
   "file_extension": ".py",
   "mimetype": "text/x-python",
   "name": "python",
   "nbconvert_exporter": "python",
   "pygments_lexer": "ipython2",
   "version": "2.7.6"
  }
 },
 "nbformat": 4,
 "nbformat_minor": 0
}