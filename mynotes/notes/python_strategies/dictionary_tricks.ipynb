{
 "cells": [
  {
   "cell_type": "markdown",
   "metadata": {
    "collapsed": true,
    "pycharm": {
     "name": "#%% md\n"
    }
   },
   "source": [
    "# Dict Tricks\n",
    "*Merging made easy*"
   ]
  },
  {
   "cell_type": "markdown",
   "source": [
    "### Pep 584\n",
    "\n",
    "[Union Operator](https://www.python.org/dev/peps/pep-0584/)\n",
    "\n",
    "This introduced the union operator for <keyword>dict</keyword> in Python 3.9"
   ],
   "metadata": {
    "collapsed": false,
    "pycharm": {
     "name": "#%% md\n"
    }
   }
  },
  {
   "cell_type": "code",
   "execution_count": 116,
   "outputs": [
    {
     "data": {
      "text/plain": "{'one': 1, 'two': 2}"
     },
     "execution_count": 116,
     "metadata": {},
     "output_type": "execute_result"
    }
   ],
   "source": [
    "x = {\"one\": 1}\n",
    "y = {\"two\": 2}\n",
    "z = x | y; z"
   ],
   "metadata": {
    "collapsed": false,
    "pycharm": {
     "name": "#%%\n"
    }
   }
  },
  {
   "cell_type": "markdown",
   "source": [
    "For me, this replaces merging a dict like so:\n"
   ],
   "metadata": {
    "collapsed": false,
    "pycharm": {
     "name": "#%% md\n"
    }
   }
  },
  {
   "cell_type": "code",
   "execution_count": 117,
   "outputs": [
    {
     "data": {
      "text/plain": "{'one': 1, 'two': 2}"
     },
     "execution_count": 117,
     "metadata": {},
     "output_type": "execute_result"
    }
   ],
   "source": [
    "z = {**x, **y}; z"
   ],
   "metadata": {
    "collapsed": false,
    "pycharm": {
     "name": "#%%\n"
    }
   }
  },
  {
   "cell_type": "markdown",
   "source": [
    "For more complex cases, check out the builtin ```ChainMap``` which also handles simple merging"
   ],
   "metadata": {
    "collapsed": false,
    "pycharm": {
     "name": "#%% md\n"
    }
   }
  },
  {
   "cell_type": "code",
   "execution_count": 118,
   "outputs": [
    {
     "data": {
      "text/plain": "{'two': 2, 'one': 1}"
     },
     "execution_count": 118,
     "metadata": {},
     "output_type": "execute_result"
    }
   ],
   "source": [
    "from collections import ChainMap\n",
    "z = dict(ChainMap(x, y)); z"
   ],
   "metadata": {
    "collapsed": false,
    "pycharm": {
     "name": "#%%\n"
    }
   }
  },
  {
   "cell_type": "markdown",
   "source": [
    "Example where we want to inherit from a parent dictionary but create separate contexts with <keyword>ChainMap</keyword>"
   ],
   "metadata": {
    "collapsed": false,
    "pycharm": {
     "name": "#%% md\n"
    }
   }
  },
  {
   "cell_type": "code",
   "execution_count": 119,
   "outputs": [
    {
     "name": "stdout",
     "output_type": "stream",
     "text": [
      "{'version': 2, 'resource': 'Cam1', 'objects': [{'type': 'car', 'value': 0.86}]}\n",
      "{'version': 2, 'resource': 'Cam2', 'objects': [{'type': 'truck', 'value': 0.5}]}\n"
     ]
    }
   ],
   "source": [
    "d = ChainMap({\"version\": 2, \"resource\": None})\n",
    "cam_one = d.new_child({\"resource\": \"Cam1\", \"objects\": []})\n",
    "cam_two = d.new_child({\"resource\": \"Cam2\", \"objects\": []})\n",
    "\n",
    "cam_one['objects'] = [{\"type\": \"car\", \"value\": 0.86}]\n",
    "cam_two['objects'] = [{\"type\": \"truck\", \"value\": 0.5}]\n",
    "\n",
    "print(dict(cam_one))\n",
    "print(dict(cam_two))"
   ],
   "metadata": {
    "collapsed": false,
    "pycharm": {
     "name": "#%%\n"
    }
   }
  },
  {
   "cell_type": "markdown",
   "source": [
    "There's lot more that can be done with the ```ChainMap```. Check out the [docs!](https://docs.python.org/3/library/collections.html#collections.ChainMap)\n"
   ],
   "metadata": {
    "collapsed": false,
    "pycharm": {
     "name": "#%% md\n"
    }
   }
  }
 ],
 "metadata": {
  "kernelspec": {
   "display_name": "Python 3",
   "language": "python",
   "name": "python3"
  },
  "language_info": {
   "codemirror_mode": {
    "name": "ipython",
    "version": 2
   },
   "file_extension": ".py",
   "mimetype": "text/x-python",
   "name": "python",
   "nbconvert_exporter": "python",
   "pygments_lexer": "ipython2",
   "version": "2.7.6"
  }
 },
 "nbformat": 4,
 "nbformat_minor": 0
}