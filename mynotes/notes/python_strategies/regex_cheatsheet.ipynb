{
 "cells": [
  {
   "cell_type": "markdown",
   "source": [
    "# Regex Cheatsheet\n",
    "*Quick Reference*"
   ],
   "metadata": {
    "collapsed": false,
    "pycharm": {
     "name": "#%% md\n"
    }
   }
  },
  {
   "cell_type": "markdown",
   "metadata": {
    "collapsed": true,
    "pycharm": {
     "name": "#%% md\n"
    }
   },
   "source": [
    "## Anchors\n",
    "\n",
    "|Anchors                |Description                                |\n",
    "|-----------------------|-------------------------------------------|\n",
    "| \\A                    | match start of string                     |\n",
    "| \\Z                    | match end of string                       |\n",
    "| ^                     | match start of line                       |\n",
    "| $                     | end of line                               |\n",
    "| \\b                    | start/end of words                        |\n",
    "| \\B                    | inverse of \\b                             |"
   ]
  },
  {
   "cell_type": "markdown",
   "source": [
    "## Groups\n",
    "\n",
    "*Note: Ellipsis (...) is for visualization purposes*\n",
    "\n",
    "| Group         | Description           | Consumes Characters? |\n",
    "|---------------|-----------------------|----------------------|\n",
    "| (?:...)       | non-capturing group   |         ✔             |\n",
    "| (?P<name>...) | named capturing group |         ✔             |\n",
    "| (?=...)       | positive lookahead    |         ✘             |\n",
    "| (?!...)       | negative lookahead    |          ✘            |\n",
    "| (?<=...)      | positive lookbehind   |           ✘           |\n",
    "| (?<!...)      | negative lookbehind   |            ✘          |\n"
   ],
   "metadata": {
    "collapsed": false,
    "pycharm": {
     "name": "#%% md\n"
    }
   }
  },
  {
   "cell_type": "markdown",
   "source": [
    "## Character Classes\n",
    "\n",
    "| Class | Description                                         |\n",
    "|-------------------|-----------------------------------------------------|\n",
    "| [ABC]             | Match any character in the set                      |\n",
    "| [^ABC]            | Match any character not in the set                  |\n",
    "| [A-z]             | Matches a range                                     |\n",
    "| .                 | Match any except linebreaks. Shortcut for [^\\n\\r]   |\n",
    "| \\w                | Match word chars. Shortcut for [A-Za-z0-9_]         |\n",
    "| \\W                | Negated ^w. Shortcut for [^A-Za-z0-9_]              |\n",
    "| \\d                | Shortcut for [0-9]                                  |\n",
    "| \\D                | Shortcut for [^0-9]                                 |\n",
    "| \\s                | Whitespace                                          |\n",
    "| [\\uxxx-\\uxxy]     | Match a character in range (see below)               |"
   ],
   "metadata": {
    "collapsed": false,
    "pycharm": {
     "name": "#%% md\n"
    }
   }
  },
  {
   "cell_type": "markdown",
   "source": [
    "### Import regex as re\n",
    "\n",
    "[regex](https://pypi.org/project/regex/) is a 3rd party library that provides more advanced functionality.\n",
    "It's mostly a drop-in replacement, so it's common to see\n",
    "```python\n",
    "import regex as re\n",
    "```\n",
    "\n",
    "Using [regex](https://pypi.org/project/regex/) we can take advantage of [Unicode Categories](https://en.wikipedia.org/wiki/Unicode_character_property#General_Category),\n",
    "and [Unicode Blocks](https://www.regular-expressions.info/unicode.html#bodytext:~:text=The%20Unicode%20standard%20divides%20the%20Unicode,future%20expansion%20of%20the%20Unicode%20standard.)\n"
   ],
   "metadata": {
    "collapsed": false,
    "pycharm": {
     "name": "#%% md\n"
    }
   }
  },
  {
   "cell_type": "code",
   "execution_count": 1,
   "outputs": [
    {
     "name": "stdout",
     "output_type": "stream",
     "text": [
      "[' ', '(', '0', '8', '@', 'H', 'P', 'X', '`', 'h', 'p', 'x']\n"
     ]
    }
   ],
   "source": [
    "import regex as re\n",
    "\n",
    "\n",
    "# test string\n",
    "chars = \"\".join([chr(i) for i in range(32, 0x10ffff) if chr(i).isprintable()])\n",
    "chars = \"\".join(chars)\n",
    "\n",
    "result = re.findall(\"\\p{InBasicLatin}\", chars)\n",
    "print(result[::8])\n",
    "\n"
   ],
   "metadata": {
    "collapsed": false,
    "pycharm": {
     "name": "#%%\n"
    }
   }
  }
 ],
 "metadata": {
  "kernelspec": {
   "display_name": "Python 3",
   "language": "python",
   "name": "python3"
  },
  "language_info": {
   "codemirror_mode": {
    "name": "ipython",
    "version": 2
   },
   "file_extension": ".py",
   "mimetype": "text/x-python",
   "name": "python",
   "nbconvert_exporter": "python",
   "pygments_lexer": "ipython2",
   "version": "2.7.6"
  }
 },
 "nbformat": 4,
 "nbformat_minor": 0
}