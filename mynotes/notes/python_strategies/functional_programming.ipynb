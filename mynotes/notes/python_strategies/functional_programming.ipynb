{
 "cells": [
  {
   "cell_type": "markdown",
   "metadata": {
    "collapsed": true,
    "pycharm": {
     "name": "#%% md\n"
    }
   },
   "source": [
    "# Functional Programming\n",
    "*With toolz*\n",
    "\n",
    "I'm assuming you are well aware of the builtin `functools` module. You may have come across [toolz](https://github.com/pytoolz/toolz).\n",
    "\n",
    "Until recently, I used it almost exclusively for [get-in](https://toolz.readthedocs.io/en/latest/api.html#toolz.dicttoolz.get_in)\n",
    "and [groupby](https://toolz.readthedocs.io/en/latest/api.html#toolz.itertoolz.groupby)\n",
    "\n",
    "I really rediscovered it for functional programming. Here are some examples of how it can be useful."
   ]
  },
  {
   "cell_type": "markdown",
   "source": [
    "## Toolz\n",
    "\n",
    "### Installation\n",
    "```bash\n",
    "pip install toolz\n",
    "```\n",
    "\n",
    "There is also `cytoolz` which is an optimized version of `toolz`. It's basically a drop-in replacement, except Pycharm seems to have trouble with the typing.\n",
    "\n",
    "### Data Pipeline\n",
    "\n",
    "For this example, I'll use the task of extracting data from HTML, a.k.a. <keyword>Web Scraping</keyword>\n",
    "\n",
    "I'm using [Scrape This Site](https://scrapethissite.com/pages/simple/) as an example\n",
    "\n",
    "As you can see, we have 250 countries that we'd like to extract. If we think about our general steps it should look something like:\n",
    "\n",
    "- Select a Country Element\n",
    "    - Select Country Name Element\n",
    "        - Get Country Name Text\n",
    "\n",
    "    - Select Country Info Element\n",
    "        - Select Capital Element\n",
    "            - Get Capital Text\n",
    "\n",
    "    - etc...\n",
    "\n",
    "These are simple operations - selecting or getting. Here's how we could define them with `toolz` and `BeautifulSoup`"
   ],
   "metadata": {
    "collapsed": false
   }
  },
  {
   "cell_type": "code",
   "execution_count": 1,
   "outputs": [],
   "source": [
    "from toolz import curry, excepts, compose_left\n",
    "\n",
    "\n",
    "@curry\n",
    "def select(element, sel, method):\n",
    "    if method == 'one':\n",
    "        return element.select_one(sel)\n",
    "    return element.select(sel)\n",
    "\n",
    "\n",
    "@curry\n",
    "def get_text(element):\n",
    "    return element.text.strip()\n",
    "\n",
    "\n",
    "@curry\n",
    "def cast_to(x, to_type):\n",
    "    return to_type(x)\n",
    "\n",
    "\n",
    "to_int = cast_to(to_type=int)\n",
    "to_float = cast_to(to_type=float)\n",
    "\n",
    "\n",
    "@curry\n",
    "def for_each(coll, func):\n",
    "    return [func(c) for c in coll]\n",
    "\n",
    "\n",
    "select_all = select(method='all')\n",
    "select_one = select(method='one')\n",
    "select_countries = select(sel=\"div.country\")\n",
    "get_country_name = compose_left(select_one(sel=\"h3.country-name\"), get_text)\n",
    "get_country_info = select_one(sel=\"div.country-info\")\n",
    "get_country_capital = compose_left(get_country_info, select_one(sel=\"span.country-capital\"), get_text)\n",
    "get_country_pop = compose_left(get_country_info, select_one(sel=\"span.country-population\"), get_text, to_int)\n",
    "get_country_area = compose_left(get_country_info, select_one(sel=\"span.country-area\"), get_text, to_float)"
   ],
   "metadata": {
    "collapsed": false,
    "pycharm": {
     "name": "#%%\n"
    }
   }
  },
  {
   "cell_type": "markdown",
   "source": [
    "I find this very easy to read. We keep our functions short, and it's just a matter of defining steps.\n",
    "\n",
    "So how do we handle exceptions? What if an element does not exist?"
   ],
   "metadata": {
    "collapsed": false,
    "pycharm": {
     "name": "#%% md\n"
    }
   }
  },
  {
   "cell_type": "code",
   "execution_count": 2,
   "outputs": [],
   "source": [
    "# Apply excepts where ever it makes sense.\n",
    "\n",
    "@curry\n",
    "def in_case(ex, func, handler=lambda _: None):\n",
    "    return excepts(ex, func, handler)\n",
    "\n",
    "\n",
    "get_country_name = in_case(AttributeError, compose_left(select_one(sel=\"h3.country-name\"), get_text))\n",
    "get_country_info = select_one(sel=\"div.country-info\")\n",
    "get_country_capital = in_case(AttributeError,\n",
    "                              compose_left(get_country_info, select_one(sel=\"span.country-capital\"), get_text))\n",
    "get_country_pop = in_case(AttributeError,\n",
    "                          compose_left(get_country_info, select_one(sel=\"span.country-population\"), get_text, to_int))\n",
    "get_country_area = in_case(AttributeError,\n",
    "                           compose_left(get_country_info, select_one(sel=\"span.country-area\"), get_text, to_float))"
   ],
   "metadata": {
    "collapsed": false,
    "pycharm": {
     "name": "#%%\n"
    }
   }
  },
  {
   "cell_type": "markdown",
   "source": [
    "### Toolz vs Cytoolz\n",
    "\n",
    "As mentioned earlier, [Cytoolz](https://github.com/pytoolz/cytoolz) claims to be \"2x-5x faster than toolz\"\n",
    "\n",
    "Let's profile it with a basic operation: snake_case to Title Case"
   ],
   "metadata": {
    "collapsed": false,
    "pycharm": {
     "name": "#%% md\n"
    }
   }
  },
  {
   "cell_type": "code",
   "execution_count": 3,
   "outputs": [],
   "source": [
    "# String Processing - Toolz\n",
    "@curry\n",
    "def str_split(s, split_on):\n",
    "    return s.split(split_on)\n",
    "\n",
    "@curry\n",
    "def str_join(coll, join_on):\n",
    "    return join_on.join(coll)\n",
    "\n",
    "@curry\n",
    "def for_each(coll, func):\n",
    "    return [func(c) for c in coll]\n",
    "\n",
    "split_words = str_split(split_on=\"_\")\n",
    "join_words = str_join(join_on=\" \")\n",
    "title_case = for_each(func=lambda s: s.title())\n",
    "toolz_op = compose_left(split_words, title_case, join_words)"
   ],
   "metadata": {
    "collapsed": false,
    "pycharm": {
     "name": "#%%\n"
    }
   }
  },
  {
   "cell_type": "code",
   "execution_count": 4,
   "outputs": [
    {
     "name": "stdout",
     "output_type": "stream",
     "text": [
      "2.78 µs ± 230 ns per loop (mean ± std. dev. of 7 runs, 100000 loops each)\n"
     ]
    }
   ],
   "source": [
    "%timeit toolz_op(\"profiling_string_operations\")"
   ],
   "metadata": {
    "collapsed": false,
    "pycharm": {
     "name": "#%%\n"
    }
   }
  },
  {
   "cell_type": "code",
   "execution_count": 5,
   "outputs": [],
   "source": [
    "from cytoolz import curry as c_curry, compose_left as c_compose_left\n",
    "# String Processing - Cytoolz\n",
    "\n",
    "@c_curry\n",
    "def c_str_split(s, split_on):\n",
    "    return s.split(split_on)\n",
    "\n",
    "@c_curry\n",
    "def c_str_join(coll, join_on):\n",
    "    return join_on.join(coll)\n",
    "\n",
    "@c_curry\n",
    "def c_for_each(coll, func):\n",
    "    return [func(c) for c in coll]\n",
    "\n",
    "c_split_words = c_str_split(split_on=\"_\")\n",
    "c_join_words = c_str_join(join_on=\" \")\n",
    "c_title_case = c_for_each(func=lambda s: s.title())\n",
    "cytoolz_op = c_compose_left(split_words, title_case, join_words)"
   ],
   "metadata": {
    "collapsed": false,
    "pycharm": {
     "name": "#%%\n"
    }
   }
  },
  {
   "cell_type": "code",
   "execution_count": 6,
   "outputs": [
    {
     "name": "stdout",
     "output_type": "stream",
     "text": [
      "2.46 µs ± 29.2 ns per loop (mean ± std. dev. of 7 runs, 100000 loops each)\n"
     ]
    }
   ],
   "source": [
    "%timeit cytoolz_op(\"profiling_string_operations\")"
   ],
   "metadata": {
    "collapsed": false,
    "pycharm": {
     "name": "#%%\n"
    }
   }
  },
  {
   "cell_type": "markdown",
   "source": [
    "Nearly equal...\n",
    "\n",
    "Let's try using a larger string"
   ],
   "metadata": {
    "collapsed": false
   }
  },
  {
   "cell_type": "code",
   "execution_count": 7,
   "outputs": [],
   "source": [
    "import secrets\n",
    "very_long_token = \"_\".join([secrets.token_urlsafe(8) for _ in range(100_000)])"
   ],
   "metadata": {
    "collapsed": false,
    "pycharm": {
     "name": "#%%\n"
    }
   }
  },
  {
   "cell_type": "code",
   "execution_count": 8,
   "outputs": [
    {
     "name": "stdout",
     "output_type": "stream",
     "text": [
      "39.3 ms ± 1.48 ms per loop (mean ± std. dev. of 7 runs, 10 loops each)\n"
     ]
    }
   ],
   "source": [
    "%timeit toolz_op(very_long_token)"
   ],
   "metadata": {
    "collapsed": false,
    "pycharm": {
     "name": "#%%\n"
    }
   }
  },
  {
   "cell_type": "code",
   "execution_count": 9,
   "outputs": [
    {
     "name": "stdout",
     "output_type": "stream",
     "text": [
      "41.1 ms ± 1.39 ms per loop (mean ± std. dev. of 7 runs, 10 loops each)\n"
     ]
    }
   ],
   "source": [
    "%timeit cytoolz_op(very_long_token)"
   ],
   "metadata": {
    "collapsed": false,
    "pycharm": {
     "name": "#%%\n"
    }
   }
  }
 ],
 "metadata": {
  "kernelspec": {
   "display_name": "Python 3",
   "language": "python",
   "name": "python3"
  },
  "language_info": {
   "codemirror_mode": {
    "name": "ipython",
    "version": 2
   },
   "file_extension": ".py",
   "mimetype": "text/x-python",
   "name": "python",
   "nbconvert_exporter": "python",
   "pygments_lexer": "ipython2",
   "version": "2.7.6"
  }
 },
 "nbformat": 4,
 "nbformat_minor": 0
}