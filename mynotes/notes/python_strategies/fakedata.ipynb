{
 "cells": [
  {
   "cell_type": "markdown",
   "metadata": {
    "collapsed": true,
    "pycharm": {
     "name": "#%% md\n"
    }
   },
   "source": [
    "# Synthesizing Realistic Data\n",
    "*Useful for testing and toy datasets*\n",
    "\n",
    "In the process of writing about a pandas function, I realized I needed a realistic dataset to effectively demonstrate its use.\n",
    "\n",
    "Here's how you can use [Faker](https://faker.readthedocs.io/en/master/index.html) to do this\n",
    "\n",
    "Start with installing Faker with pip:\n",
    "\n",
    "```bash\n",
    "pip install faker\n",
    "```\n",
    "<created>04/30/21</created>\n",
    "<updated>01/04/22</updated>"
   ]
  },
  {
   "cell_type": "markdown",
   "metadata": {
    "collapsed": false,
    "pycharm": {
     "name": "#%% md\n"
    }
   },
   "source": [
    "### Using Faker"
   ]
  },
  {
   "cell_type": "code",
   "execution_count": 77,
   "metadata": {
    "collapsed": false,
    "pycharm": {
     "name": "#%%\n"
    }
   },
   "outputs": [
    {
     "name": "stdout",
     "output_type": "stream",
     "text": [
      "Hello, my name is Kevin Lane.\n",
      "I'm a Call centre manager at Odonnell-Harrell.\n"
     ]
    }
   ],
   "source": [
    "from faker import Faker\n",
    "fake = Faker()\n",
    "\n",
    "print(f\"Hello, my name is {fake.first_name()} {fake.last_name()}.\\n\"\n",
    "      f\"I'm a {fake.job()} at {fake.company()}.\")"
   ]
  },
  {
   "cell_type": "markdown",
   "metadata": {
    "collapsed": false,
    "pycharm": {
     "name": "#%% md\n"
    }
   },
   "source": [
    "### Using Faker in a Fixture Factory\n",
    "\n",
    "Another obvious use case of generating synthetic data is for unit testing.\n",
    "\n",
    "While it's simple to generate random, independent variables, the same cannot be said for complex, multidimensional models that incorporate business logic.\n",
    "\n",
    "I've found useful pattern is to construct a model using a data structure that mimics one that we would use in production. This concept is known as the <keyword>Factory</keyword> Pattern.\n",
    "\n",
    "By leveraging <keyword>faker</keyword>, we can generate realistic data in a variety of forms.\n",
    "\n",
    "Let's create a ```ShopperFactory``` class that we can use to generate our ```Shopper``` class"
   ]
  },
  {
   "cell_type": "code",
   "execution_count": 78,
   "metadata": {
    "collapsed": false,
    "pycharm": {
     "name": "#%%\n"
    }
   },
   "outputs": [],
   "source": [
    "from dataclasses import dataclass\n",
    "from faker import Faker\n",
    "from datetime import datetime\n",
    "\n",
    "@dataclass\n",
    "class Shopper:\n",
    "    \"\"\"The object we want to generate\"\"\"\n",
    "    id: int\n",
    "    username: str\n",
    "    timestamp: datetime\n",
    "    product_id: int\n",
    "    action: str\n",
    "\n",
    "class ShopperFactory:\n",
    "    \"\"\"\n",
    "\n",
    "    Factory that produces Fake Shoppers\n",
    "\n",
    "    Parameters\n",
    "    ----------\n",
    "    active_begin: str\n",
    "        Leftmost window of time to include for timestamp\n",
    "    active_end: str\n",
    "        Rightmost window of time to include for timestamp\n",
    "    recurring: float\n",
    "        How often to generate unique shoppers\n",
    "\n",
    "    \"\"\"\n",
    "    F = Faker()\n",
    "    def __init__(self, active_begin='-30d', active_end='now', recurring: float = 0.15,\n",
    "                 actions=('view', 'add_to_cart', 'save', 'share', 'purchase')):\n",
    "        self.active_begin = active_begin\n",
    "        self.active_end = active_end\n",
    "        self.recurring = recurring\n",
    "        self.actions = actions\n",
    "\n",
    "\n",
    "    def create(self) -> Shopper:\n",
    "        return Shopper(\n",
    "                id=self.F.pyint(),\n",
    "                username=self.F.user_name(),\n",
    "                timestamp=self.F.date_time_between(self.active_begin, self.active_end),\n",
    "                product_id=int(self.F.ean()),\n",
    "                action=self.F.random.choice(self.actions)\n",
    "                )"
   ]
  },
  {
   "cell_type": "markdown",
   "metadata": {
    "collapsed": false,
    "pycharm": {
     "name": "#%% md\n"
    }
   },
   "source": [
    "### Making a dataset\n",
    "\n",
    "Now we can create data!"
   ]
  },
  {
   "cell_type": "code",
   "execution_count": 79,
   "metadata": {
    "collapsed": false,
    "pycharm": {
     "name": "#%%\n"
    }
   },
   "outputs": [],
   "source": [
    "# Create 100 unique shoppers\n",
    "factory = ShopperFactory()\n",
    "shoppers = [factory.create() for _ in range(100)]"
   ]
  },
  {
   "cell_type": "code",
   "execution_count": 80,
   "metadata": {
    "collapsed": false,
    "pycharm": {
     "name": "#%%\n"
    }
   },
   "outputs": [
    {
     "data": {
      "text/html": [
       "<div>\n",
       "<style scoped>\n",
       "    .dataframe tbody tr th:only-of-type {\n",
       "        vertical-align: middle;\n",
       "    }\n",
       "\n",
       "    .dataframe tbody tr th {\n",
       "        vertical-align: top;\n",
       "    }\n",
       "\n",
       "    .dataframe thead th {\n",
       "        text-align: right;\n",
       "    }\n",
       "</style>\n",
       "<table border=\"1\" class=\"dataframe\">\n",
       "  <thead>\n",
       "    <tr style=\"text-align: right;\">\n",
       "      <th></th>\n",
       "      <th>id</th>\n",
       "      <th>username</th>\n",
       "      <th>timestamp</th>\n",
       "      <th>product_id</th>\n",
       "      <th>action</th>\n",
       "    </tr>\n",
       "  </thead>\n",
       "  <tbody>\n",
       "    <tr>\n",
       "      <th>0</th>\n",
       "      <td>9334</td>\n",
       "      <td>starksheryl</td>\n",
       "      <td>2021-12-07 00:20:27</td>\n",
       "      <td>2481094721503</td>\n",
       "      <td>add_to_cart</td>\n",
       "    </tr>\n",
       "    <tr>\n",
       "      <th>1</th>\n",
       "      <td>8961</td>\n",
       "      <td>emilylewis</td>\n",
       "      <td>2021-12-07 19:49:39</td>\n",
       "      <td>7680724944021</td>\n",
       "      <td>share</td>\n",
       "    </tr>\n",
       "    <tr>\n",
       "      <th>2</th>\n",
       "      <td>2890</td>\n",
       "      <td>torresdenise</td>\n",
       "      <td>2021-12-07 23:46:27</td>\n",
       "      <td>5757279973652</td>\n",
       "      <td>save</td>\n",
       "    </tr>\n",
       "    <tr>\n",
       "      <th>3</th>\n",
       "      <td>204</td>\n",
       "      <td>teresasmith</td>\n",
       "      <td>2021-12-08 02:41:39</td>\n",
       "      <td>300613065442</td>\n",
       "      <td>add_to_cart</td>\n",
       "    </tr>\n",
       "    <tr>\n",
       "      <th>4</th>\n",
       "      <td>4039</td>\n",
       "      <td>hectorking</td>\n",
       "      <td>2021-12-08 11:01:59</td>\n",
       "      <td>7504905191595</td>\n",
       "      <td>purchase</td>\n",
       "    </tr>\n",
       "    <tr>\n",
       "      <th>5</th>\n",
       "      <td>1572</td>\n",
       "      <td>lauramorgan</td>\n",
       "      <td>2021-12-09 02:02:36</td>\n",
       "      <td>6301670090402</td>\n",
       "      <td>save</td>\n",
       "    </tr>\n",
       "    <tr>\n",
       "      <th>6</th>\n",
       "      <td>486</td>\n",
       "      <td>ralph65</td>\n",
       "      <td>2021-12-09 04:27:31</td>\n",
       "      <td>3343561140738</td>\n",
       "      <td>share</td>\n",
       "    </tr>\n",
       "    <tr>\n",
       "      <th>7</th>\n",
       "      <td>5512</td>\n",
       "      <td>pamela43</td>\n",
       "      <td>2021-12-09 10:05:23</td>\n",
       "      <td>9653097856077</td>\n",
       "      <td>save</td>\n",
       "    </tr>\n",
       "    <tr>\n",
       "      <th>8</th>\n",
       "      <td>2946</td>\n",
       "      <td>ryan45</td>\n",
       "      <td>2021-12-09 11:45:00</td>\n",
       "      <td>3632738352129</td>\n",
       "      <td>purchase</td>\n",
       "    </tr>\n",
       "    <tr>\n",
       "      <th>9</th>\n",
       "      <td>2136</td>\n",
       "      <td>xnixon</td>\n",
       "      <td>2021-12-09 12:42:39</td>\n",
       "      <td>5948317234532</td>\n",
       "      <td>purchase</td>\n",
       "    </tr>\n",
       "    <tr>\n",
       "      <th>10</th>\n",
       "      <td>4081</td>\n",
       "      <td>hughesandre</td>\n",
       "      <td>2021-12-09 17:45:03</td>\n",
       "      <td>5393312494731</td>\n",
       "      <td>save</td>\n",
       "    </tr>\n",
       "    <tr>\n",
       "      <th>11</th>\n",
       "      <td>5846</td>\n",
       "      <td>spencerblanchard</td>\n",
       "      <td>2021-12-10 06:20:17</td>\n",
       "      <td>9459623162946</td>\n",
       "      <td>view</td>\n",
       "    </tr>\n",
       "    <tr>\n",
       "      <th>12</th>\n",
       "      <td>7888</td>\n",
       "      <td>kathleen43</td>\n",
       "      <td>2021-12-10 10:31:56</td>\n",
       "      <td>9871057415724</td>\n",
       "      <td>purchase</td>\n",
       "    </tr>\n",
       "    <tr>\n",
       "      <th>13</th>\n",
       "      <td>5070</td>\n",
       "      <td>gfrench</td>\n",
       "      <td>2021-12-10 11:06:15</td>\n",
       "      <td>4802957773084</td>\n",
       "      <td>view</td>\n",
       "    </tr>\n",
       "    <tr>\n",
       "      <th>14</th>\n",
       "      <td>7805</td>\n",
       "      <td>opacheco</td>\n",
       "      <td>2021-12-10 13:43:48</td>\n",
       "      <td>2497493920874</td>\n",
       "      <td>share</td>\n",
       "    </tr>\n",
       "    <tr>\n",
       "      <th>15</th>\n",
       "      <td>1458</td>\n",
       "      <td>ilucas</td>\n",
       "      <td>2021-12-11 08:31:41</td>\n",
       "      <td>1194856071259</td>\n",
       "      <td>view</td>\n",
       "    </tr>\n",
       "    <tr>\n",
       "      <th>16</th>\n",
       "      <td>9574</td>\n",
       "      <td>charlesvasquez</td>\n",
       "      <td>2021-12-13 15:02:27</td>\n",
       "      <td>6950640703752</td>\n",
       "      <td>share</td>\n",
       "    </tr>\n",
       "    <tr>\n",
       "      <th>17</th>\n",
       "      <td>6810</td>\n",
       "      <td>allenbrenda</td>\n",
       "      <td>2021-12-13 19:28:32</td>\n",
       "      <td>9628842019694</td>\n",
       "      <td>view</td>\n",
       "    </tr>\n",
       "    <tr>\n",
       "      <th>18</th>\n",
       "      <td>9191</td>\n",
       "      <td>savannah52</td>\n",
       "      <td>2021-12-13 20:44:41</td>\n",
       "      <td>9861781795148</td>\n",
       "      <td>save</td>\n",
       "    </tr>\n",
       "    <tr>\n",
       "      <th>19</th>\n",
       "      <td>3041</td>\n",
       "      <td>david41</td>\n",
       "      <td>2021-12-13 23:52:03</td>\n",
       "      <td>440843721630</td>\n",
       "      <td>share</td>\n",
       "    </tr>\n",
       "  </tbody>\n",
       "</table>\n",
       "</div>"
      ],
      "text/plain": [
       "      id          username           timestamp     product_id       action\n",
       "0   9334       starksheryl 2021-12-07 00:20:27  2481094721503  add_to_cart\n",
       "1   8961        emilylewis 2021-12-07 19:49:39  7680724944021        share\n",
       "2   2890      torresdenise 2021-12-07 23:46:27  5757279973652         save\n",
       "3    204       teresasmith 2021-12-08 02:41:39   300613065442  add_to_cart\n",
       "4   4039        hectorking 2021-12-08 11:01:59  7504905191595     purchase\n",
       "5   1572       lauramorgan 2021-12-09 02:02:36  6301670090402         save\n",
       "6    486           ralph65 2021-12-09 04:27:31  3343561140738        share\n",
       "7   5512          pamela43 2021-12-09 10:05:23  9653097856077         save\n",
       "8   2946            ryan45 2021-12-09 11:45:00  3632738352129     purchase\n",
       "9   2136            xnixon 2021-12-09 12:42:39  5948317234532     purchase\n",
       "10  4081       hughesandre 2021-12-09 17:45:03  5393312494731         save\n",
       "11  5846  spencerblanchard 2021-12-10 06:20:17  9459623162946         view\n",
       "12  7888        kathleen43 2021-12-10 10:31:56  9871057415724     purchase\n",
       "13  5070           gfrench 2021-12-10 11:06:15  4802957773084         view\n",
       "14  7805          opacheco 2021-12-10 13:43:48  2497493920874        share\n",
       "15  1458            ilucas 2021-12-11 08:31:41  1194856071259         view\n",
       "16  9574    charlesvasquez 2021-12-13 15:02:27  6950640703752        share\n",
       "17  6810       allenbrenda 2021-12-13 19:28:32  9628842019694         view\n",
       "18  9191        savannah52 2021-12-13 20:44:41  9861781795148         save\n",
       "19  3041           david41 2021-12-13 23:52:03   440843721630        share"
      ]
     },
     "execution_count": 80,
     "metadata": {},
     "output_type": "execute_result"
    }
   ],
   "source": [
    "import pandas as pd\n",
    "df = pd.DataFrame(shoppers)\n",
    "\n",
    "# Order by timestamp\n",
    "df = df.sort_values('timestamp').reset_index(drop=True)\n",
    "df.head(20)"
   ]
  },
  {
   "cell_type": "markdown",
   "metadata": {
    "collapsed": false,
    "pycharm": {
     "name": "#%% md\n"
    }
   },
   "source": [
    "This simple example generates valid ```Shopper``` objects on-demand.\n",
    "\n",
    "However, the dataset, as a whole may not accurately reflect one in production.\n",
    "\n",
    "- We have no logic in place that assures ```id``` and ```username``` are always associated.\n",
    "- There should be repeat users\n",
    "- A purchase should necessarily include a \"view\", \"add_to_cart\" for the product id. These events should be in order (with regards to \"timestamp\")\n",
    "- ...etc\n",
    "\n",
    "Having the dataset make sense will require some additional work!"
   ]
  },
  {
   "cell_type": "markdown",
   "metadata": {
    "collapsed": false
   },
   "source": []
  },
  {
   "cell_type": "markdown",
   "metadata": {
    "collapsed": false,
    "pycharm": {
     "name": "#%% md\n"
    }
   },
   "source": [
    "\n",
    "\n",
    "\n"
   ]
  }
 ],
 "metadata": {
  "kernelspec": {
   "display_name": "Python 3",
   "language": "python",
   "name": "python3"
  },
  "language_info": {
   "codemirror_mode": {
    "name": "ipython",
    "version": 2
   },
   "file_extension": ".py",
   "mimetype": "text/x-python",
   "name": "python",
   "nbconvert_exporter": "python",
   "pygments_lexer": "ipython2",
   "version": "2.7.6"
  }
 },
 "nbformat": 4,
 "nbformat_minor": 0
}