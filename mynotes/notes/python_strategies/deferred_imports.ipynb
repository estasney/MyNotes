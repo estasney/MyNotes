{
 "cells": [
  {
   "cell_type": "markdown",
   "metadata": {
    "collapsed": true,
    "pycharm": {
     "name": "#%% md\n"
    }
   },
   "source": [
    "# Lazy, Cached, Singleton Imports\n",
    "*Using Dunder Methods*\n",
    "<created>01/06/22</created>\n",
    "<updated></updated>"
   ]
  },
  {
   "cell_type": "markdown",
   "source": [
    "**Problem**: You need to make a resource available for import, but it requires some additional processing before being ready.\n",
    "\n",
    "**Examples**:\n",
    "- ORM Sessions/Engines\n",
    "    - Different modules should use the same ORM connection\n",
    "- Loggers\n",
    "    - You want to use a logger, but with each import the logging handlers are duplicated\n",
    "\n"
   ],
   "metadata": {
    "collapsed": false,
    "pycharm": {
     "name": "#%% md\n"
    }
   }
  },
  {
   "cell_type": "markdown",
   "source": [
    "## How We Approach with Cached Properties\n",
    "\n",
    "This is a common pattern to cache <keyword>properties</keyword>\n",
    "\n",
    "```python\n",
    "class MyResource:\n",
    "    def __init__(self):\n",
    "        self.cached_ = None\n",
    "\n",
    "    @property\n",
    "    def cached(self):\n",
    "        if self.cached_:\n",
    "            return self.cached_\n",
    "        self.cached_ = one_time_load()\n",
    "        return self.cached_\n",
    "```\n",
    "\n",
    "Notice we could have used a Class Attribute which would be shared across all instances of `MyResource`"
   ],
   "metadata": {
    "collapsed": false,
    "pycharm": {
     "name": "#%% md\n"
    }
   }
  },
  {
   "cell_type": "markdown",
   "source": [
    "## Imports\n",
    "\n",
    "Here's how to do something similar with a module (typing is helpful but optional)\n",
    "```python\n",
    "from typing import Any\n",
    "\n",
    "_MY_RESOURCE=None\n",
    "MY_RESOURCE: Any\n",
    "\n",
    "def _load_resource():\n",
    "    global _MY_RESOURCE\n",
    "    if _MY_RESOURCE:\n",
    "        # We've already loaded our resource\n",
    "        return _MY_RESOURCE\n",
    "    # one time operation\n",
    "    _MY_RESOURCE = some_value\n",
    "    return _MY_RESOURCE\n",
    "\n",
    "# This is the good part\n",
    "\n",
    "def __getattr__(name: str) -> Any:\n",
    "    if name == \"MY_RESOURCE\":\n",
    "        return _load_resource()\n",
    "    raise AttributeError(f\"module {__name__!r} has no attribute {name!r}\")\n",
    "\n",
    "```\n",
    "\n",
    "And now we can simply import `MY_RESOURCE` knowing we're getting `_MY_RESOURCE`!\n",
    "\n",
    "We're defining a <keyword>dunder</keyword> method for a module?!\n",
    "\n",
    "If you found this use of <keyword>descriptors</keyword> interesting, check out the official [Descriptor HowTo Guide](https://docs.python.org/3/howto/descriptor.html)"
   ],
   "metadata": {
    "collapsed": false,
    "pycharm": {
     "name": "#%% md\n"
    }
   }
  },
  {
   "cell_type": "markdown",
   "source": [],
   "metadata": {
    "collapsed": false,
    "pycharm": {
     "name": "#%% md\n"
    }
   }
  }
 ],
 "metadata": {
  "kernelspec": {
   "display_name": "Python 3",
   "language": "python",
   "name": "python3"
  },
  "language_info": {
   "codemirror_mode": {
    "name": "ipython",
    "version": 2
   },
   "file_extension": ".py",
   "mimetype": "text/x-python",
   "name": "python",
   "nbconvert_exporter": "python",
   "pygments_lexer": "ipython2",
   "version": "2.7.6"
  }
 },
 "nbformat": 4,
 "nbformat_minor": 0
}