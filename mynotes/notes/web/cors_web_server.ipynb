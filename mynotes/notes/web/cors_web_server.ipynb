{
 "cells": [
  {
   "cell_type": "markdown",
   "metadata": {
    "collapsed": true,
    "pycharm": {
     "name": "#%% md\n"
    }
   },
   "source": [
    "#  Simple Web Server with CORS\n",
    "*When your browser refuses to load local files*\n",
    "\n",
    "Sometimes we want our browser to be able to load a local file\n",
    "\n",
    "1. .json\n",
    "2. .js\n",
    "3. ... etc\n",
    "\n",
    "But the resource is blocked. Running a local <keyword>web server</keyword> is a quick workaround. There's several ways to spin one up - here I'll focus on using Python.\n",
    "\n",
    "The [Python Docs Example](https://docs.python.org/3/library/http.server.html) will get you 80% there. However, you may encounter <keyword>CORS</keyword> Preflight checks failing.\n",
    "\n",
    "You can read the spec on [MDN](https://developer.mozilla.org/en-US/docs/Web/HTTP/CORS#simple_requests) which goes a great amount of detail on the protocol. But for local development,\n",
    "when we just want it to run we can fix these errors by adding one header to our response.\n"
   ]
  },
  {
   "cell_type": "code",
   "source": [
    "import os\n",
    "import argparse\n",
    "import socketserver\n",
    "from functools import partial\n",
    "from http.server import SimpleHTTPRequestHandler\n",
    "\n",
    "class CORSRequestHandler(SimpleHTTPRequestHandler):\n",
    "    def end_headers(self):\n",
    "        self.send_header('Access-Control-Allow-Origin', '*')\n",
    "        SimpleHTTPRequestHandler.end_headers(self)\n",
    "\n",
    "if __name__ == '__main__':\n",
    "\n",
    "    parser = argparse.ArgumentParser()\n",
    "    # Note that if you're making a request from 127.0.0.1 to localhost - CORS applies!\n",
    "    parser.add_argument('--bind', '-b', default='', metavar='ADDRESS',\n",
    "                        help='Specify alternate bind address '\n",
    "                             '[default: all interfaces]')\n",
    "    parser.add_argument('--directory', '-d', default=os.getcwd(),\n",
    "                        help='Specify alternative directory '\n",
    "                             '[default:current directory]')\n",
    "    parser.add_argument('port', action='store',\n",
    "                        default=8000, type=int,\n",
    "                        nargs='?',\n",
    "                        help='Specify alternate port [default: 8000]')\n",
    "    args = parser.parse_args()\n",
    "    print(f\"Serving root at {args.directory}\")\n",
    "    handler_class = partial(CORSRequestHandler, directory=args.directory)\n",
    "    with socketserver.TCPServer((args.bind, args.port), CORSRequestHandler) as httpd:\n",
    "        httpd.serve_forever()"
   ],
   "metadata": {
    "collapsed": false,
    "pycharm": {
     "name": "#%%\n"
    }
   },
   "execution_count": null,
   "outputs": []
  },
  {
   "cell_type": "markdown",
   "source": [
    "I keep a .bat file handy to quickly launch this for specific projects\n",
    "\n",
    "```bat\n",
    "CALL C:\\path\\to_your_venv\\activate.bat\n",
    "ECHO \"Starting CORS Server\"\n",
    "cd C:\\path\\to_module\n",
    "python server.py -d \"C:\\path\\to_server_root\\directory\"\n",
    "PAUSE\n",
    "```\n"
   ],
   "metadata": {
    "collapsed": false,
    "pycharm": {
     "name": "#%% md\n"
    }
   }
  }
 ],
 "metadata": {
  "kernelspec": {
   "display_name": "Python 3",
   "language": "python",
   "name": "python3"
  },
  "language_info": {
   "codemirror_mode": {
    "name": "ipython",
    "version": 2
   },
   "file_extension": ".py",
   "mimetype": "text/x-python",
   "name": "python",
   "nbconvert_exporter": "python",
   "pygments_lexer": "ipython2",
   "version": "2.7.6"
  }
 },
 "nbformat": 4,
 "nbformat_minor": 0
}