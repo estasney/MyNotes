{
 "cells": [
  {
   "cell_type": "markdown",
   "metadata": {
    "collapsed": true,
    "pycharm": {
     "name": "#%% md\n"
    }
   },
   "source": [
    "#  Simple Web Server with CORS\n",
    "*When your browser refuses to load local files*\n",
    "\n",
    "Sometimes we want our browser to be able to load a local file\n",
    "\n",
    "1. .json\n",
    "2. .js\n",
    "3. ... etc\n",
    "\n",
    "But the resource is blocked. Running a local web server is a quick workaround.\n",
    " \n",
    "Chrome has recently increased its 'nitpickiness' for CORS. `CORSRequestHandler` extends `SimpleHTTPRequestHandler` to make Chrome happy. \n",
    "         \n"
   ]
  },
  {
   "cell_type": "markdown",
   "source": [
    "\n",
    "```python\n",
    "import os\n",
    "from functools import partial\n",
    "from http.server import SimpleHTTPRequestHandler, test\n",
    "\n",
    "\n",
    "class CORSRequestHandler(SimpleHTTPRequestHandler):\n",
    "    def end_headers(self):\n",
    "        self.send_header('Access-Control-Allow-Origin', '*')\n",
    "        SimpleHTTPRequestHandler.end_headers(self)\n",
    "\n",
    "\n",
    "if __name__ == '__main__':\n",
    "    import argparse\n",
    "\n",
    "    parser = argparse.ArgumentParser()\n",
    "    parser.add_argument('--cgi', action='store_true',\n",
    "                        help='Run as CGI Server')\n",
    "    parser.add_argument('--bind', '-b', default='', metavar='ADDRESS',\n",
    "                        help='Specify alternate bind address '\n",
    "                             '[default: all interfaces]')\n",
    "    parser.add_argument('--directory', '-d', default=os.getcwd(),\n",
    "                        help='Specify alternative directory '\n",
    "                             '[default:current directory]')\n",
    "    parser.add_argument('port', action='store',\n",
    "                        default=8000, type=int,\n",
    "                        nargs='?',\n",
    "                        help='Specify alternate port [default: 8000]')\n",
    "    args = parser.parse_args()\n",
    "    handler_class = partial(CORSRequestHandler,\n",
    "                            directory=args.directory)\n",
    "\n",
    "    test(HandlerClass=handler_class, port=args.port, bind=args.bind)\n",
    "\n",
    "```"
   ],
   "metadata": {
    "collapsed": false
   }
  },
  {
   "cell_type": "markdown",
   "source": [
    "I keep a .bat file handy to quickly launch this for specific projects\n",
    "\n",
    "```bat\n",
    "CALL C:\\path\\to_your_venv\\activate.bat\n",
    "ECHO \"Starting CORS Server\"\n",
    "cd C:\\path\\to_module\n",
    "python server.py -d \"C:\\path\\to_server_root\\directory\"\n",
    "PAUSE\n",
    "```"
   ],
   "metadata": {
    "collapsed": false,
    "pycharm": {
     "name": "#%% md\n"
    }
   }
  }
 ],
 "metadata": {
  "kernelspec": {
   "display_name": "Python 3",
   "language": "python",
   "name": "python3"
  },
  "language_info": {
   "codemirror_mode": {
    "name": "ipython",
    "version": 2
   },
   "file_extension": ".py",
   "mimetype": "text/x-python",
   "name": "python",
   "nbconvert_exporter": "python",
   "pygments_lexer": "ipython2",
   "version": "2.7.6"
  },
  "pycharm": {
   "stem_cell": {
    "cell_type": "raw",
    "source": [],
    "metadata": {
     "collapsed": false
    }
   }
  }
 },
 "nbformat": 4,
 "nbformat_minor": 0
}