{
 "cells": [
  {
   "cell_type": "markdown",
   "source": [
    "# Regex Cheatsheet\n",
    "*Quick Reference*"
   ],
   "metadata": {
    "collapsed": false,
    "pycharm": {
     "name": "#%% md\n"
    }
   }
  },
  {
   "cell_type": "markdown",
   "metadata": {
    "collapsed": true,
    "pycharm": {
     "name": "#%% md\n"
    }
   },
   "source": [
    "## Anchors\n",
    "\n",
    "|Anchors                |Description                                |\n",
    "|-----------------------|-------------------------------------------|\n",
    "| \\A                    | match start of string                     |\n",
    "| \\Z                    | match end of string                       |\n",
    "| ^                     | match start of line                       |\n",
    "| $                     | end of line                               |\n",
    "| \\b                    | start/end of words                        |\n",
    "| \\B                    | inverse of \\b                             |"
   ]
  },
  {
   "cell_type": "markdown",
   "source": [
    "## Character Groups\n",
    "\n",
    "|Groups| Description|\n",
    "|------------------------|------------------------------------------|\n",
    "| (?:)                  | non-capturing                             |\n",
    "| (?P<name>)            | named capture group                       |\n",
    "| .                     | any except \\n                             |\n",
    "| []                    | character classes                         |\n",
    "| *                     | 0 or more                                 |\n",
    "| +                     | 1 or more                                 |\n",
    "| ?                     | 0 or 1                                    |\n",
    "| {3,5}                 | 3 to 5 times                              |\n",
    "| pat1.*pat2|pat2.*pat1 | match both pat1 and pat2 but in any order |"
   ],
   "metadata": {
    "collapsed": false,
    "pycharm": {
     "name": "#%% md\n"
    }
   }
  },
  {
   "cell_type": "markdown",
   "source": [
    "## Character Class\n",
    "\n",
    "| Class | Description                                         |\n",
    "|-------------------|-----------------------------------------------------|\n",
    "| [ABC]             | Match any character in the set                      |\n",
    "| [^ABC]            | Match any character not in the set                  |\n",
    "| [A-z]             | Matches a range                                     |\n",
    "| .                 | Match any except linebreaks. Shortcut for [^\\n\\r]   |\n",
    "| \\w                | Match word chars. Shortcut for [A-Za-z0-9_]         |\n",
    "| \\W                | Negated ^w. Shortcut for [^A-Za-z0-9_]              |\n",
    "| \\d                | Shortcut for [0-9]                                  |\n",
    "| \\D                | Shortcut for [^0-9]                                 |\n",
    "| \\s                | Whitespace                                          |\n",
    "| [\\uxxx-\\uxxy]     | Match a character in range (see below)               |"
   ],
   "metadata": {
    "collapsed": false,
    "pycharm": {
     "name": "#%% md\n"
    }
   }
  },
  {
   "cell_type": "markdown",
   "source": [
    "## Tips\n",
    "\n",
    "### Unicode Representation\n",
    "\n",
    "Imagine you've normalized text. It looks \"normal\" until you see this:\n",
    "\n",
    "> some_ῷstring\n",
    "\n",
    "Rather than try to catch these individually, a smarter approach is to leverage unicode representation.\n",
    "\n",
    "These are listed online but Python can do this natively."
   ],
   "metadata": {
    "collapsed": false,
    "pycharm": {
     "name": "#%% md\n"
    }
   }
  },
  {
   "cell_type": "code",
   "execution_count": 1,
   "outputs": [
    {
     "name": "stdout",
     "output_type": "stream",
     "text": [
      "ῷ : \\u1ff7\n",
      "GREEK SMALL LETTER OMEGA WITH PERISPOMENI AND YPOGEGRAMMENI\n"
     ]
    }
   ],
   "source": [
    "import unicodedata\n",
    "s = \"ῷ\"\n",
    "unicode_repr = s.encode(\"unicode_escape\").decode('ascii')\n",
    "\n",
    "print(f\"{s} : {unicode_repr}\")\n",
    "print(unicodedata.name(\"ῷ\"))"
   ],
   "metadata": {
    "collapsed": false,
    "pycharm": {
     "name": "#%%\n"
    }
   }
  },
  {
   "cell_type": "markdown",
   "source": [
    "This can be represented in a regex pattern:"
   ],
   "metadata": {
    "collapsed": false,
    "pycharm": {
     "name": "#%% md\n"
    }
   }
  },
  {
   "cell_type": "code",
   "execution_count": 2,
   "outputs": [
    {
     "data": {
      "text/plain": "['ῷ']"
     },
     "execution_count": 2,
     "metadata": {},
     "output_type": "execute_result"
    }
   ],
   "source": [
    "import re\n",
    "re.findall(r\"(\\u1ff7)\", \"some_ῷstring\")"
   ],
   "metadata": {
    "collapsed": false,
    "pycharm": {
     "name": "#%%\n"
    }
   }
  },
  {
   "cell_type": "markdown",
   "source": [
    "You could also use it as a range. We know the Unicode code point for \"ῷ\" is 8183\n",
    "after running\n",
    "```python\n",
    "ord(\"ῷ\")\n",
    ">>> 8183\n",
    "```"
   ],
   "metadata": {
    "collapsed": false,
    "pycharm": {
     "name": "#%% md\n"
    }
   }
  },
  {
   "cell_type": "code",
   "execution_count": 3,
   "outputs": [
    {
     "name": "stdout",
     "output_type": "stream",
     "text": [
      "[\\u1f93-\\u205b]\n"
     ]
    }
   ],
   "source": [
    "import re\n",
    "\n",
    "chars = sorted([chr((8183 - x)).encode(\"unicode_escape\").decode('ascii') for x in [100, -100]])\n",
    "ranged_unicode_string = f\"[{chars[0]}-{chars[1]}]\"\n",
    "print(ranged_unicode_string)\n"
   ],
   "metadata": {
    "collapsed": false,
    "pycharm": {
     "name": "#%%\n"
    }
   }
  },
  {
   "cell_type": "code",
   "execution_count": 4,
   "outputs": [
    {
     "data": {
      "text/plain": "['ᾚ', 'ῷ', '῾']"
     },
     "execution_count": 4,
     "metadata": {},
     "output_type": "execute_result"
    }
   ],
   "source": [
    "re.compile(ranged_unicode_string).findall(\"'ᾚ''ῷ῾\")"
   ],
   "metadata": {
    "collapsed": false,
    "pycharm": {
     "name": "#%%\n"
    }
   }
  },
  {
   "cell_type": "markdown",
   "source": [
    "### Import regex as re\n",
    "\n",
    "[regex](https://pypi.org/project/regex/) is a 3rd party library that provides more advanced functionality.\n",
    "It's mostly a drop-in replacement so it's common to see\n",
    "```python\n",
    "import regex as re\n",
    "```\n",
    "\n",
    "Using [regex](https://pypi.org/project/regex/) we can take advantage of [Unicode Categories](https://en.wikipedia.org/wiki/Unicode_character_property#General_Category),\n",
    "and [Unicode Blocks](https://www.regular-expressions.info/unicode.html)\n"
   ],
   "metadata": {
    "collapsed": false,
    "pycharm": {
     "name": "#%% md\n"
    }
   }
  },
  {
   "cell_type": "code",
   "execution_count": 5,
   "outputs": [
    {
     "name": "stdout",
     "output_type": "stream",
     "text": [
      "[' ', '!', '\"', '#', '$', '%', '&', \"'\", '(', ')', '*', '+', ',', '-', '.', '/', '0', '1', '2', '3', '4', '5', '6', '7', '8', '9', ':', ';', '<', '=', '>', '?', '@', 'A', 'B', 'C', 'D', 'E', 'F', 'G', 'H', 'I', 'J', 'K', 'L', 'M', 'N', 'O', 'P', 'Q', 'R', 'S', 'T', 'U', 'V', 'W', 'X', 'Y', 'Z', '[', '\\\\', ']', '^', '_', '`', 'a', 'b', 'c', 'd', 'e', 'f', 'g', 'h', 'i', 'j', 'k', 'l', 'm', 'n', 'o', 'p', 'q', 'r', 's', 't', 'u', 'v', 'w', 'x', 'y', 'z', '{', '|', '}', '~']\n"
     ]
    }
   ],
   "source": [
    "import regex as re\n",
    "\n",
    "\n",
    "# test string\n",
    "chars = \"\".join([chr(i) for i in range(32, 10000) if chr(i).isprintable()])\n",
    "chars = \"\".join(chars)\n",
    "\n",
    "result = re.findall(\"\\p{InBasicLatin}\", chars)\n",
    "print(result)\n",
    "\n"
   ],
   "metadata": {
    "collapsed": false,
    "pycharm": {
     "name": "#%%\n"
    }
   }
  }
 ],
 "metadata": {
  "kernelspec": {
   "display_name": "Python 3",
   "language": "python",
   "name": "python3"
  },
  "language_info": {
   "codemirror_mode": {
    "name": "ipython",
    "version": 2
   },
   "file_extension": ".py",
   "mimetype": "text/x-python",
   "name": "python",
   "nbconvert_exporter": "python",
   "pygments_lexer": "ipython2",
   "version": "2.7.6"
  }
 },
 "nbformat": 4,
 "nbformat_minor": 0
}