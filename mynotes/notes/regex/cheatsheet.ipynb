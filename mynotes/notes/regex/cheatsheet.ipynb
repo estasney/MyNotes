{
 "cells": [
  {
   "cell_type": "markdown",
   "metadata": {
    "collapsed": true,
    "pycharm": {
     "name": "#%% md\n"
    }
   },
   "source": [
    "|Anchors                |Description                                |\n",
    "|-----------------------|-------------------------------------------|\n",
    "| \\A                    | match start of string                     |\n",
    "| \\Z                    | match end of string                       |\n",
    "| ^                     | match start of line                       |\n",
    "| $                     | end of line                               |\n",
    "| \\b                    | start/end of words                        |\n",
    "| \\B                    | inverse of \\b                             |"
   ]
  },
  {
   "cell_type": "markdown",
   "source": [
    "|Groups| Description|\n",
    "|------------------------|------------------------------------------|\n",
    "| (?:)                  | non-capturing                             |\n",
    "| (?P<name>)            | named capture group                       |\n",
    "| .                     | any except \\n                             |\n",
    "| []                    | character classes                         |\n",
    "| *                     | 0 or more                                 |\n",
    "| +                     | 1 or more                                 |\n",
    "| ?                     | 0 or 1                                    |\n",
    "| {3,5}                 | 3 to 5 times                              |\n",
    "| pat1.*pat2|pat2.*pat1 | match both pat1 and pat2 but in any order |"
   ],
   "metadata": {
    "collapsed": false,
    "pycharm": {
     "name": "#%% md\n"
    }
   }
  },
  {
   "cell_type": "markdown",
   "source": [
    "| Character classes | Description                                         |\n",
    "|-------------------|-----------------------------------------------------|\n",
    "| [ABC]             | Match any character in the set                      |\n",
    "| [^ABC]            | Match any character not in the set                  |\n",
    "| [A-z]             | Matches a range                                     |\n",
    "| .                 | Match any except linebreaks. Shortcut for [^\\n\\r]   |\n",
    "| \\w                | Match word chars. Shortcut for [A-Za-z0-9_]         |\n",
    "| \\W                | Negated ^w. Shortcut for [^A-Za-z0-9_]              |\n",
    "| \\d                | Shortcut for [0-9]                                  |\n",
    "| \\D                | Shortcut for [^0-9]                                 |\n",
    "| \\s                | Whitespace                                          |\n",
    "| [\\uxxx-\\uxxy]     | Match a character in range (see below)               |"
   ],
   "metadata": {
    "collapsed": false,
    "pycharm": {
     "name": "#%% md\n"
    }
   }
  },
  {
   "cell_type": "code",
   "execution_count": 6,
   "outputs": [
    {
     "data": {
      "text/plain": "b'\\\\u1ff7'"
     },
     "metadata": {},
     "output_type": "execute_result",
     "execution_count": 6
    }
   ],
   "source": [
    "s = \"ῷ\"\n",
    "s.encode(\"unicode_escape\")\n"
   ],
   "metadata": {
    "collapsed": false,
    "pycharm": {
     "name": "#%%\n",
     "is_executing": false
    }
   }
  }
 ],
 "metadata": {
  "kernelspec": {
   "display_name": "Python 3",
   "language": "python",
   "name": "python3"
  },
  "language_info": {
   "codemirror_mode": {
    "name": "ipython",
    "version": 2
   },
   "file_extension": ".py",
   "mimetype": "text/x-python",
   "name": "python",
   "nbconvert_exporter": "python",
   "pygments_lexer": "ipython2",
   "version": "2.7.6"
  },
  "pycharm": {
   "stem_cell": {
    "cell_type": "raw",
    "source": [],
    "metadata": {
     "collapsed": false
    }
   }
  }
 },
 "nbformat": 4,
 "nbformat_minor": 0
}