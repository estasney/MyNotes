{
 "cells": [
  {
   "cell_type": "markdown",
   "metadata": {
    "collapsed": true,
    "pycharm": {
     "name": "#%% md\n"
    }
   },
   "source": [
    "# Exploring Unicode\n",
    "*Possibly pointless*"
   ]
  },
  {
   "cell_type": "markdown",
   "source": [
    "Occasionally, I find myself googling something like:\n",
    "\n",
    "> unicode arrow symbol\n",
    "\n",
    "So I can use a:\n",
    "\n",
    " →\n",
    "\n",
    "instead of a:\n",
    "\n",
    "==>\n",
    "--->\n",
    "\n",
    "\n",
    "Python includes a database of Unicode symbols so why Google it?"
   ],
   "metadata": {
    "collapsed": false,
    "pycharm": {
     "name": "#%% md\n"
    }
   }
  },
  {
   "cell_type": "markdown",
   "source": [
    "## Unicodedata\n",
    "\n",
    "If you're lucky enough to know the *exact* name of your desired symbol, getting the character is straight forward.\n",
    "\n",
    "```python\n",
    "import unicodedata\n",
    "\n",
    ">>> unicodedata.lookup(\"RIGHTWARDS ARROW\")\n",
    ">>> '→'\n",
    "```\n",
    "\n",
    "How can we find characters with 'ARROW' in their name?"
   ],
   "metadata": {
    "collapsed": false,
    "pycharm": {
     "name": "#%% md\n"
    }
   }
  },
  {
   "cell_type": "markdown",
   "source": [
    "## Building a Mapping\n",
    "\n",
    "What we'd like to do is build a mapping of:\n",
    "\n",
    "`CHARACTER NAME: CHARACTER`\n",
    "\n",
    "So we can run a query along the lines of:\n",
    "\n",
    "`{k: v for k, v in mapping.items() if 'ARROW' in k}`\n",
    "\n",
    "### Getting Ready\n",
    "\n",
    "Roughly speaking we want to do something where:\n",
    "\n",
    "- `unicodedata.name` provides a canonical name\n",
    "- We generate a the character itself\n",
    "\n",
    "We know that `ord` will return a code point for a given character. And conversely, `chr` will return a Unicode string from an ordinal\n",
    "\n",
    "From the documentation, `chr` will accept values from `0 <= i <= 0x10ffff`\n",
    "\n",
    "\n",
    "`0x10ffff` is hexadecimal format, (base 16). To see the 'normal' way (base 10):\n",
    "\n",
    "```python\n",
    "\n",
    ">>> int('0x10ffff', base=16)\n",
    ">>> 1114111\n",
    "\n",
    "```\n",
    "\n",
    "Although there isn't any need to convert it. The `0x` prefix denotes the hexadecimal format\n",
    "\n",
    "```python\n",
    "\n",
    ">>> 0x10\n",
    ">>> 16\n",
    ">>> 0x10 + 16\n",
    ">>> 32\n",
    ">>> range(0x1000)\n",
    ">>> range(0, 4096)\n",
    "```"
   ],
   "metadata": {
    "collapsed": false,
    "pycharm": {
     "name": "#%% md\n"
    }
   }
  },
  {
   "cell_type": "markdown",
   "source": [
    "### Building"
   ],
   "metadata": {
    "collapsed": false,
    "pycharm": {
     "name": "#%% md\n"
    }
   }
  },
  {
   "cell_type": "code",
   "execution_count": 1,
   "outputs": [],
   "source": [
    "import unicodedata\n",
    "\n",
    "char_mapping = {}\n",
    "\n",
    "for i in range(0x10ffff):\n",
    "    character = chr(i)\n",
    "    try:\n",
    "        character_name = unicodedata.name(character)\n",
    "    except ValueError:\n",
    "        continue\n",
    "\n",
    "    char_mapping[character_name] = character"
   ],
   "metadata": {
    "collapsed": false,
    "pycharm": {
     "name": "#%%\n"
    }
   }
  },
  {
   "cell_type": "markdown",
   "source": [
    "### Querying\n"
   ],
   "metadata": {
    "collapsed": false,
    "pycharm": {
     "name": "#%% md\n"
    }
   }
  },
  {
   "cell_type": "code",
   "execution_count": 2,
   "outputs": [
    {
     "name": "stdout",
     "output_type": "stream",
     "text": [
      "MODIFIER LETTER RIGHT ARROWHEAD : ˃\n",
      "MODIFIER LETTER LOW RIGHT ARROWHEAD : ˲\n",
      "COMBINING RIGHT ARROWHEAD ABOVE : ͐\n",
      "COMBINING RIGHT ARROWHEAD BELOW : ͕\n",
      "COMBINING RIGHT ARROWHEAD AND UP ARROWHEAD BELOW : ͖\n",
      "COMBINING DOUBLE RIGHTWARDS ARROW BELOW : ͢\n",
      "ARABIC RIGHT ARROWHEAD ABOVE : ࣸ\n",
      "ARABIC RIGHT ARROWHEAD BELOW : ࣺ\n",
      "ARABIC DOUBLE RIGHT ARROWHEAD ABOVE : ࣻ\n",
      "ARABIC DOUBLE RIGHT ARROWHEAD ABOVE WITH DOT : ࣼ\n",
      "ARABIC RIGHT ARROWHEAD ABOVE WITH DOT : ࣽ\n",
      "COMBINING RIGHT ARROWHEAD AND DOWN ARROWHEAD BELOW : ᷿\n",
      "COMBINING RIGHT ARROW ABOVE : ⃗\n",
      "COMBINING RIGHT ARROW BELOW : ⃯\n",
      "RIGHTWARDS ARROW : →\n",
      "RIGHTWARDS ARROW WITH STROKE : ↛\n",
      "RIGHTWARDS WAVE ARROW : ↝\n",
      "RIGHTWARDS TWO HEADED ARROW : ↠\n",
      "RIGHTWARDS ARROW WITH TAIL : ↣\n",
      "RIGHTWARDS ARROW FROM BAR : ↦\n",
      "RIGHTWARDS ARROW WITH HOOK : ↪\n",
      "RIGHTWARDS ARROW WITH LOOP : ↬\n",
      "UPWARDS ARROW WITH TIP RIGHTWARDS : ↱\n",
      "DOWNWARDS ARROW WITH TIP RIGHTWARDS : ↳\n",
      "RIGHTWARDS ARROW WITH CORNER DOWNWARDS : ↴\n",
      "RIGHTWARDS PAIRED ARROWS : ⇉\n",
      "RIGHTWARDS DOUBLE ARROW WITH STROKE : ⇏\n",
      "RIGHTWARDS DOUBLE ARROW : ⇒\n",
      "RIGHTWARDS TRIPLE ARROW : ⇛\n",
      "RIGHTWARDS SQUIGGLE ARROW : ⇝\n",
      "RIGHTWARDS DASHED ARROW : ⇢\n",
      "RIGHTWARDS ARROW TO BAR : ⇥\n",
      "RIGHTWARDS WHITE ARROW : ⇨\n",
      "RIGHTWARDS WHITE ARROW FROM WALL : ⇰\n",
      "RIGHT ARROW WITH SMALL CIRCLE : ⇴\n",
      "THREE RIGHTWARDS ARROWS : ⇶\n",
      "RIGHTWARDS ARROW WITH VERTICAL STROKE : ⇸\n",
      "RIGHTWARDS ARROW WITH DOUBLE VERTICAL STROKE : ⇻\n",
      "RIGHTWARDS OPEN-HEADED ARROW : ⇾\n",
      "APL FUNCTIONAL SYMBOL QUAD RIGHTWARDS ARROW : ⍈\n",
      "RIGHT ANGLE WITH DOWNWARDS ZIGZAG ARROW : ⍼\n",
      "HEAVY WIDE-HEADED RIGHTWARDS ARROW : ➔\n",
      "HEAVY RIGHTWARDS ARROW : ➙\n",
      "DRAFTING POINT RIGHTWARDS ARROW : ➛\n",
      "HEAVY ROUND-TIPPED RIGHTWARDS ARROW : ➜\n",
      "TRIANGLE-HEADED RIGHTWARDS ARROW : ➝\n",
      "HEAVY TRIANGLE-HEADED RIGHTWARDS ARROW : ➞\n",
      "DASHED TRIANGLE-HEADED RIGHTWARDS ARROW : ➟\n",
      "HEAVY DASHED TRIANGLE-HEADED RIGHTWARDS ARROW : ➠\n",
      "BLACK RIGHTWARDS ARROW : ➡\n",
      "THREE-D TOP-LIGHTED RIGHTWARDS ARROWHEAD : ➢\n",
      "THREE-D BOTTOM-LIGHTED RIGHTWARDS ARROWHEAD : ➣\n",
      "BLACK RIGHTWARDS ARROWHEAD : ➤\n",
      "HEAVY BLACK CURVED DOWNWARDS AND RIGHTWARDS ARROW : ➥\n",
      "HEAVY BLACK CURVED UPWARDS AND RIGHTWARDS ARROW : ➦\n",
      "SQUAT BLACK RIGHTWARDS ARROW : ➧\n",
      "HEAVY CONCAVE-POINTED BLACK RIGHTWARDS ARROW : ➨\n",
      "RIGHT-SHADED WHITE RIGHTWARDS ARROW : ➩\n",
      "BACK-TILTED SHADOWED WHITE RIGHTWARDS ARROW : ➫\n",
      "FRONT-TILTED SHADOWED WHITE RIGHTWARDS ARROW : ➬\n",
      "HEAVY LOWER RIGHT-SHADOWED WHITE RIGHTWARDS ARROW : ➭\n",
      "HEAVY UPPER RIGHT-SHADOWED WHITE RIGHTWARDS ARROW : ➮\n",
      "NOTCHED LOWER RIGHT-SHADOWED WHITE RIGHTWARDS ARROW : ➯\n",
      "NOTCHED UPPER RIGHT-SHADOWED WHITE RIGHTWARDS ARROW : ➱\n",
      "CIRCLED HEAVY WHITE RIGHTWARDS ARROW : ➲\n",
      "WHITE-FEATHERED RIGHTWARDS ARROW : ➳\n",
      "BLACK-FEATHERED RIGHTWARDS ARROW : ➵\n",
      "HEAVY BLACK-FEATHERED RIGHTWARDS ARROW : ➸\n",
      "TEARDROP-BARBED RIGHTWARDS ARROW : ➺\n",
      "HEAVY TEARDROP-SHANKED RIGHTWARDS ARROW : ➻\n",
      "WEDGE-TAILED RIGHTWARDS ARROW : ➼\n",
      "HEAVY WEDGE-TAILED RIGHTWARDS ARROW : ➽\n",
      "OPEN-OUTLINED RIGHTWARDS ARROW : ➾\n",
      "RIGHT ARROW WITH CIRCLED PLUS : ⟴\n",
      "LONG RIGHTWARDS ARROW : ⟶\n",
      "LONG RIGHTWARDS DOUBLE ARROW : ⟹\n",
      "LONG RIGHTWARDS ARROW FROM BAR : ⟼\n",
      "LONG RIGHTWARDS DOUBLE ARROW FROM BAR : ⟾\n",
      "LONG RIGHTWARDS SQUIGGLE ARROW : ⟿\n",
      "RIGHTWARDS TWO-HEADED ARROW WITH VERTICAL STROKE : ⤀\n",
      "RIGHTWARDS TWO-HEADED ARROW WITH DOUBLE VERTICAL STROKE : ⤁\n",
      "RIGHTWARDS DOUBLE ARROW WITH VERTICAL STROKE : ⤃\n",
      "RIGHTWARDS TWO-HEADED ARROW FROM BAR : ⤅\n",
      "RIGHTWARDS DOUBLE ARROW FROM BAR : ⤇\n",
      "RIGHTWARDS DOUBLE DASH ARROW : ⤍\n",
      "RIGHTWARDS TRIPLE DASH ARROW : ⤏\n",
      "RIGHTWARDS TWO-HEADED TRIPLE DASH ARROW : ⤐\n",
      "RIGHTWARDS ARROW WITH DOTTED STEM : ⤑\n",
      "RIGHTWARDS ARROW WITH TAIL WITH VERTICAL STROKE : ⤔\n",
      "RIGHTWARDS ARROW WITH TAIL WITH DOUBLE VERTICAL STROKE : ⤕\n",
      "RIGHTWARDS TWO-HEADED ARROW WITH TAIL : ⤖\n",
      "RIGHTWARDS TWO-HEADED ARROW WITH TAIL WITH VERTICAL STROKE : ⤗\n",
      "RIGHTWARDS TWO-HEADED ARROW WITH TAIL WITH DOUBLE VERTICAL STROKE : ⤘\n",
      "RIGHTWARDS ARROW-TAIL : ⤚\n",
      "RIGHTWARDS DOUBLE ARROW-TAIL : ⤜\n",
      "RIGHTWARDS ARROW TO BLACK DIAMOND : ⤞\n",
      "RIGHTWARDS ARROW FROM BAR TO BLACK DIAMOND : ⤠\n",
      "WAVE ARROW POINTING DIRECTLY RIGHT : ⤳\n",
      "ARROW POINTING RIGHTWARDS THEN CURVING UPWARDS : ⤴\n",
      "ARROW POINTING RIGHTWARDS THEN CURVING DOWNWARDS : ⤵\n",
      "ARROW POINTING DOWNWARDS THEN CURVING RIGHTWARDS : ⤷\n",
      "RIGHT-SIDE ARC CLOCKWISE ARROW : ⤸\n",
      "LOWER RIGHT SEMICIRCULAR CLOCKWISE ARROW : ⤾\n",
      "RIGHTWARDS ARROW WITH PLUS BELOW : ⥅\n",
      "RIGHTWARDS ARROW THROUGH X : ⥇\n",
      "RIGHT DOUBLE ARROW WITH ROUNDED HEAD : ⥰\n",
      "EQUALS SIGN ABOVE RIGHTWARDS ARROW : ⥱\n",
      "TILDE OPERATOR ABOVE RIGHTWARDS ARROW : ⥲\n",
      "RIGHTWARDS ARROW ABOVE TILDE OPERATOR : ⥴\n",
      "RIGHTWARDS ARROW ABOVE ALMOST EQUAL TO : ⥵\n",
      "GREATER-THAN ABOVE RIGHTWARDS ARROW : ⥸\n",
      "SUBSET ABOVE RIGHTWARDS ARROW : ⥹\n",
      "MEASURED ANGLE WITH OPEN ARM ENDING IN ARROW POINTING UP AND RIGHT : ⦨\n",
      "MEASURED ANGLE WITH OPEN ARM ENDING IN ARROW POINTING DOWN AND RIGHT : ⦪\n",
      "MEASURED ANGLE WITH OPEN ARM ENDING IN ARROW POINTING RIGHT AND UP : ⦬\n",
      "MEASURED ANGLE WITH OPEN ARM ENDING IN ARROW POINTING RIGHT AND DOWN : ⦮\n",
      "EMPTY SET WITH RIGHT ARROW ABOVE : ⦳\n",
      "RIGHTWARDS ARROW WITH TIP DOWNWARDS : ⬎\n",
      "RIGHTWARDS ARROW WITH TIP UPWARDS : ⬏\n",
      "RIGHTWARDS ARROW THROUGH GREATER-THAN : ⭃\n",
      "RIGHTWARDS ARROW THROUGH SUPERSET : ⭄\n",
      "RIGHTWARDS QUADRUPLE ARROW : ⭆\n",
      "REVERSE TILDE OPERATOR ABOVE RIGHTWARDS ARROW : ⭇\n",
      "RIGHTWARDS ARROW ABOVE REVERSE ALMOST EQUAL TO : ⭈\n",
      "RIGHTWARDS ARROW ABOVE REVERSE TILDE OPERATOR : ⭌\n",
      "RIGHTWARDS TRIANGLE-HEADED ARROW : ⭢\n",
      "RIGHTWARDS TRIANGLE-HEADED DASHED ARROW : ⭬\n",
      "RIGHTWARDS TRIANGLE-HEADED ARROW TO BAR : ⭲\n",
      "RIGHTWARDS TRIANGLE-HEADED ARROW WITH DOUBLE HORIZONTAL STROKE : ⭼\n",
      "RIGHTWARDS TRIANGLE-HEADED PAIRED ARROWS : ⮆\n",
      "RIGHTWARDS BLACK CIRCLED WHITE ARROW : ⮊\n",
      "ANTICLOCKWISE TRIANGLE-HEADED RIGHT U-SHAPED ARROW : ⮌\n",
      "RIGHTWARDS BLACK ARROW : ⮕\n",
      "THREE-D RIGHT-LIGHTED UPWARDS EQUILATERAL ARROWHEAD : ⮙\n",
      "THREE-D TOP-LIGHTED RIGHTWARDS EQUILATERAL ARROWHEAD : ⮚\n",
      "BLACK RIGHTWARDS EQUILATERAL ARROWHEAD : ⮞\n",
      "DOWNWARDS TRIANGLE-HEADED ARROW WITH LONG TIP RIGHTWARDS : ⮡\n",
      "UPWARDS TRIANGLE-HEADED ARROW WITH LONG TIP RIGHTWARDS : ⮣\n",
      "RIGHTWARDS TRIANGLE-HEADED ARROW WITH LONG TIP UPWARDS : ⮥\n",
      "RIGHTWARDS TRIANGLE-HEADED ARROW WITH LONG TIP DOWNWARDS : ⮧\n",
      "BLACK CURVED DOWNWARDS AND RIGHTWARDS ARROW : ⮩\n",
      "BLACK CURVED UPWARDS AND RIGHTWARDS ARROW : ⮫\n",
      "BLACK CURVED RIGHTWARDS AND UPWARDS ARROW : ⮭\n",
      "BLACK CURVED RIGHTWARDS AND DOWNWARDS ARROW : ⮯\n",
      "RIBBON ARROW DOWN RIGHT : ⮱\n",
      "RIBBON ARROW UP RIGHT : ⮳\n",
      "RIBBON ARROW RIGHT UP : ⮵\n",
      "RIBBON ARROW RIGHT DOWN : ⮷\n",
      "RIGHTWARDS TWO-HEADED ARROW WITH TRIANGLE ARROWHEADS : ⯮\n",
      "HALFWIDTH RIGHTWARDS ARROW : ￫\n",
      "TWISTED RIGHTWARDS ARROWS : 🔀\n",
      "SOON WITH RIGHTWARDS ARROW ABOVE : 🔜\n",
      "RIGHTWARDS ARROW WITH SMALL TRIANGLE ARROWHEAD : 🠂\n",
      "RIGHTWARDS ARROW WITH MEDIUM TRIANGLE ARROWHEAD : 🠆\n",
      "RIGHTWARDS ARROW WITH LARGE TRIANGLE ARROWHEAD : 🠊\n",
      "RIGHTWARDS ARROW WITH SMALL EQUILATERAL ARROWHEAD : 🠒\n",
      "RIGHTWARDS ARROW WITH EQUILATERAL ARROWHEAD : 🠖\n",
      "HEAVY RIGHTWARDS ARROW WITH EQUILATERAL ARROWHEAD : 🠚\n",
      "HEAVY RIGHTWARDS ARROW WITH LARGE EQUILATERAL ARROWHEAD : 🠞\n",
      "RIGHTWARDS TRIANGLE-HEADED ARROW WITH NARROW SHAFT : 🠢\n",
      "RIGHTWARDS TRIANGLE-HEADED ARROW WITH MEDIUM SHAFT : 🠦\n",
      "RIGHTWARDS TRIANGLE-HEADED ARROW WITH BOLD SHAFT : 🠪\n",
      "RIGHTWARDS TRIANGLE-HEADED ARROW WITH HEAVY SHAFT : 🠮\n",
      "RIGHTWARDS TRIANGLE-HEADED ARROW WITH VERY HEAVY SHAFT : 🠲\n",
      "RIGHTWARDS FINGER-POST ARROW : 🠶\n",
      "RIGHTWARDS SQUARED ARROW : 🠺\n",
      "RIGHTWARDS COMPRESSED ARROW : 🠾\n",
      "RIGHTWARDS HEAVY COMPRESSED ARROW : 🡂\n",
      "RIGHTWARDS HEAVY ARROW : 🡆\n",
      "RIGHTWARDS SANS-SERIF ARROW : 🡒\n",
      "WIDE-HEADED RIGHTWARDS LIGHT BARB ARROW : 🡢\n",
      "WIDE-HEADED RIGHTWARDS BARB ARROW : 🡪\n",
      "WIDE-HEADED RIGHTWARDS MEDIUM BARB ARROW : 🡲\n",
      "WIDE-HEADED RIGHTWARDS HEAVY BARB ARROW : 🡺\n",
      "WIDE-HEADED RIGHTWARDS VERY HEAVY BARB ARROW : 🢂\n",
      "RIGHTWARDS TRIANGLE ARROWHEAD : 🢒\n",
      "RIGHTWARDS WHITE ARROW WITHIN TRIANGLE ARROWHEAD : 🢖\n",
      "RIGHTWARDS ARROW WITH NOTCHED TAIL : 🢚\n",
      "RIGHTWARDS BOTTOM SHADED WHITE ARROW : 🢡\n",
      "RIGHTWARDS TOP SHADED WHITE ARROW : 🢣\n",
      "RIGHTWARDS RIGHT-SHADED WHITE ARROW : 🢥\n",
      "RIGHTWARDS BACK-TILTED SHADOWED WHITE ARROW : 🢩\n",
      "RIGHTWARDS FRONT-TILTED SHADOWED WHITE ARROW : 🢫\n"
     ]
    }
   ],
   "source": [
    "having_tokens = [\"ARROW\", \"RIGHT\"]\n",
    "not_having_token = [\"LEFT\"]\n",
    "\n",
    "def token_filter(char_name, has=having_tokens, has_not=not_having_token):\n",
    "    return all([\n",
    "            all([token in char_name for token in has]),\n",
    "            all([token not in char_name for token in has_not]),\n",
    "        ])\n",
    "\n",
    "\n",
    "arrows = {k: v for k, v in char_mapping.items() if token_filter(k)}\n",
    "\n",
    "for k, v in arrows.items():\n",
    "    print(f\"{k} : {v}\")"
   ],
   "metadata": {
    "collapsed": false,
    "pycharm": {
     "name": "#%%\n"
    }
   }
  }
 ],
 "metadata": {
  "kernelspec": {
   "display_name": "Python 3",
   "language": "python",
   "name": "python3"
  },
  "language_info": {
   "codemirror_mode": {
    "name": "ipython",
    "version": 2
   },
   "file_extension": ".py",
   "mimetype": "text/x-python",
   "name": "python",
   "nbconvert_exporter": "python",
   "pygments_lexer": "ipython2",
   "version": "2.7.6"
  }
 },
 "nbformat": 4,
 "nbformat_minor": 0
}