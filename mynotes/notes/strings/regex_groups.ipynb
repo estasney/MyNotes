{
 "cells": [
  {
   "cell_type": "markdown",
   "metadata": {
    "collapsed": true,
    "pycharm": {
     "name": "#%% md\n"
    }
   },
   "source": [
    "# Regex Groups\n",
    "*And Python's Groupdict*"
   ]
  },
  {
   "cell_type": "markdown",
   "source": [
    "[Groupdict](https://docs.python.org/3/library/re.html#re.Match.groupdict) is one of these features I'd seen before but never realized a use case for it until recently.\n",
    "\n",
    "Regex allows defining named capture groups:\n",
    "\n",
    "```python\n",
    ">>> re.match(r\"(?P<first_name>\\w+) (?P<last_name>\\w+)\", \"Malcolm Reynolds\")\n",
    ">>> {'first_name': 'Malcolm', 'last_name': 'Reynolds'}\n",
    "```"
   ],
   "metadata": {
    "collapsed": false,
    "pycharm": {
     "name": "#%% md\n"
    }
   }
  },
  {
   "cell_type": "markdown",
   "source": [
    "## Use Case : Pandas\n",
    "\n",
    "An example nginx entry:\n",
    "\n",
    "```000.00.000.00 - [US] [04/Jan/2021:19:33:35 +0000] \"GET /api/count HTTP/1.1\" 200 19 \"/some/path\" \"Mozilla/5.0 (Windows NT 10.0; Win64; x64) AppleWebKit/537.36 (KHTML, like Gecko) Chrome/87.0.4280.88 Safari/537.36\" \"000.00.000.00```"
   ],
   "metadata": {
    "collapsed": false,
    "pycharm": {
     "name": "#%% md\n"
    }
   }
  },
  {
   "cell_type": "code",
   "execution_count": 6,
   "outputs": [],
   "source": [
    "entry = [\"\"\"000.00.000.00 - [US] [04/Jan/2021:19:33:35 +0000] \"GET /api/count HTTP/1.1\" 200 19 \"/some/path\" \"Mozilla/5.0 (Windows NT 10.0; Win64; x64) AppleWebKit/537.36 (KHTML, like Gecko) Chrome/87.0.4280.88 Safari/537.36\" \"000.00.000.00\"\n",
    "\"\"\"]"
   ],
   "metadata": {
    "collapsed": false,
    "pycharm": {
     "name": "#%%\n"
    }
   }
  },
  {
   "cell_type": "code",
   "execution_count": 7,
   "outputs": [
    {
     "data": {
      "text/plain": "                                                   0\n0  000.00.000.00 - [US] [04/Jan/2021:19:33:35 +00...",
      "text/html": "<div>\n<style scoped>\n    .dataframe tbody tr th:only-of-type {\n        vertical-align: middle;\n    }\n\n    .dataframe tbody tr th {\n        vertical-align: top;\n    }\n\n    .dataframe thead th {\n        text-align: right;\n    }\n</style>\n<table border=\"1\" class=\"dataframe\">\n  <thead>\n    <tr style=\"text-align: right;\">\n      <th></th>\n      <th>0</th>\n    </tr>\n  </thead>\n  <tbody>\n    <tr>\n      <th>0</th>\n      <td>000.00.000.00 - [US] [04/Jan/2021:19:33:35 +00...</td>\n    </tr>\n  </tbody>\n</table>\n</div>"
     },
     "execution_count": 7,
     "metadata": {},
     "output_type": "execute_result"
    }
   ],
   "source": [
    "import pandas as pd\n",
    "import re\n",
    "df = pd.DataFrame(entry); df"
   ],
   "metadata": {
    "collapsed": false,
    "pycharm": {
     "name": "#%%\n"
    }
   }
  },
  {
   "cell_type": "code",
   "execution_count": 11,
   "outputs": [],
   "source": [
    "nginx_parse = re.compile(r'(?P<realip>[\\d.]+)\\s-\\s\\[(?P<country_code>\\w+)]\\s\\[(?P<day>\\d+)/(?P<month>[A-z][a-z]+)/(?P<year>\\d{4}):(?P<time>[\\d:]+)\\s(?P<tzoffset>\\+\\d+)]\\s\"(?P<method>[A-Z]+)\\s(?P<path>[/\\w\\d_]+)\\s.+?(?P<status>\\d{3})')"
   ],
   "metadata": {
    "collapsed": false,
    "pycharm": {
     "name": "#%%\n"
    }
   }
  },
  {
   "cell_type": "code",
   "execution_count": 16,
   "outputs": [
    {
     "data": {
      "text/plain": "          realip country_code day month  year      time tzoffset method  \\\n0  000.00.000.00           US  04   Jan  2021  19:33:35    +0000    GET   \n\n         path status  \n0  /api/count    200  ",
      "text/html": "<div>\n<style scoped>\n    .dataframe tbody tr th:only-of-type {\n        vertical-align: middle;\n    }\n\n    .dataframe tbody tr th {\n        vertical-align: top;\n    }\n\n    .dataframe thead th {\n        text-align: right;\n    }\n</style>\n<table border=\"1\" class=\"dataframe\">\n  <thead>\n    <tr style=\"text-align: right;\">\n      <th></th>\n      <th>realip</th>\n      <th>country_code</th>\n      <th>day</th>\n      <th>month</th>\n      <th>year</th>\n      <th>time</th>\n      <th>tzoffset</th>\n      <th>method</th>\n      <th>path</th>\n      <th>status</th>\n    </tr>\n  </thead>\n  <tbody>\n    <tr>\n      <th>0</th>\n      <td>000.00.000.00</td>\n      <td>US</td>\n      <td>04</td>\n      <td>Jan</td>\n      <td>2021</td>\n      <td>19:33:35</td>\n      <td>+0000</td>\n      <td>GET</td>\n      <td>/api/count</td>\n      <td>200</td>\n    </tr>\n  </tbody>\n</table>\n</div>"
     },
     "execution_count": 16,
     "metadata": {},
     "output_type": "execute_result"
    }
   ],
   "source": [
    "# Extracting into columns based on group name\n",
    "\n",
    "pd.DataFrame(df[0].apply(nginx_parse.match).map(lambda m: m.groupdict()).tolist())"
   ],
   "metadata": {
    "collapsed": false,
    "pycharm": {
     "name": "#%%\n"
    }
   }
  }
 ],
 "metadata": {
  "kernelspec": {
   "display_name": "Python 3",
   "language": "python",
   "name": "python3"
  },
  "language_info": {
   "codemirror_mode": {
    "name": "ipython",
    "version": 2
   },
   "file_extension": ".py",
   "mimetype": "text/x-python",
   "name": "python",
   "nbconvert_exporter": "python",
   "pygments_lexer": "ipython2",
   "version": "2.7.6"
  }
 },
 "nbformat": 4,
 "nbformat_minor": 0
}