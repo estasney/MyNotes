{
 "cells": [
  {
   "cell_type": "markdown",
   "metadata": {
    "collapsed": true,
    "pycharm": {
     "name": "#%% md\n"
    }
   },
   "source": [
    "Converting <keyword>SVG</keyword> to <keyword>PNG</keyword> with <keyword>Inkscape</keyword>\n",
    "\n",
    "*Using Inkscape Command Line*"
   ]
  },
  {
   "cell_type": "markdown",
   "source": [
    "**Program to call**\n",
    "\n",
    "`C:\\Program Files\\Inkscape\\inkscape.com`\n",
    "\n",
    "**Options**\n",
    "\n",
    "- `-z`  Don't open GUI\n",
    "- `-f` SVG File\n",
    "- `-C` Export Entire Image\n",
    "- `-e` Export To\n",
    "\n",
    "\n",
    "**All Together**\n",
    "\n",
    "```\n",
    "\"C:\\Program Files\\Inkscape\\inkscape.com\" -z -f \"C:\\somepath\\img.svg\" -C -e \"C:\\somepath\\img.png\"\n",
    "```\n"
   ],
   "metadata": {
    "collapsed": false,
    "pycharm": {
     "name": "#%% md\n"
    }
   }
  }
 ],
 "metadata": {
  "kernelspec": {
   "display_name": "Python 3",
   "language": "python",
   "name": "python3"
  },
  "language_info": {
   "codemirror_mode": {
    "name": "ipython",
    "version": 2
   },
   "file_extension": ".py",
   "mimetype": "text/x-python",
   "name": "python",
   "nbconvert_exporter": "python",
   "pygments_lexer": "ipython2",
   "version": "2.7.6"
  }
 },
 "nbformat": 4,
 "nbformat_minor": 0
}