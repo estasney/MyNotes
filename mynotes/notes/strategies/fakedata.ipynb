{
 "cells": [
  {
   "cell_type": "markdown",
   "metadata": {
    "collapsed": true,
    "pycharm": {
     "name": "#%% md\n"
    }
   },
   "source": [
    "# Synthesizing Realistic Data\n",
    "*Useful for testing*\n",
    "\n",
    "In the process of writing about a pandas function, I realized I needed a realistic dataset to effectively demonstrate its use.\n",
    "\n",
    "Here's how you can use [Faker](https://faker.readthedocs.io/en/master/index.html) to do this\n",
    "\n",
    "Start with installing Faker with pip:\n",
    "\n",
    "```bash\n",
    "pip install faker\n",
    "```"
   ]
  },
  {
   "cell_type": "markdown",
   "source": [
    "### Using Faker"
   ],
   "metadata": {
    "collapsed": false,
    "pycharm": {
     "name": "#%% md\n"
    }
   }
  },
  {
   "cell_type": "code",
   "execution_count": 1,
   "outputs": [
    {
     "name": "stdout",
     "output_type": "stream",
     "text": [
      "Hello, my name is Darlene Parker.\n",
      "I'm a Phytotherapist at Martin-Austin.\n"
     ]
    }
   ],
   "source": [
    "from faker import Faker\n",
    "fake = Faker()\n",
    "\n",
    "print(f\"Hello, my name is {fake.first_name()} {fake.last_name()}.\\n\"\n",
    "      f\"I'm a {fake.job()} at {fake.company()}.\")"
   ],
   "metadata": {
    "collapsed": false,
    "pycharm": {
     "name": "#%%\n"
    }
   }
  },
  {
   "cell_type": "markdown",
   "source": [
    "### Extending Faker\n",
    "\n",
    "The full list of \"providers\" is available in the [docs](https://faker.readthedocs.io/en/master/providers.html).\n",
    "\n",
    "I've found that wrapping including Faker in a class to mimic a particular data model efficient and easy to implement"
   ],
   "metadata": {
    "collapsed": false,
    "pycharm": {
     "name": "#%% md\n"
    }
   }
  },
  {
   "cell_type": "code",
   "execution_count": 2,
   "outputs": [],
   "source": [
    "class FakeShopper:\n",
    "\n",
    "    \"\"\"\n",
    "    Convenience class\n",
    "\n",
    "    Notes\n",
    "    -----\n",
    "\n",
    "    We define a set, `USERNAMES`\n",
    "    A username should be unique, so we track those generated thus far\n",
    "\n",
    "    For user_ids, let's assume they are auto-incremented.\n",
    "    \"\"\"\n",
    "\n",
    "    FAKER = Faker()\n",
    "    USERNAMES = set([])\n",
    "    LAST_ID = 1\n",
    "\n",
    "    def __init__(self, active_begin='-30d', active_end='now'):\n",
    "        self.active_begin = active_begin\n",
    "        self.active_end = active_end\n",
    "        self.username = self.get_username()\n",
    "        self.user_id = self.get_user_id()\n",
    "\n",
    "    @classmethod\n",
    "    def _make_unique(cls, func, unique_set):\n",
    "        unique_set_attr = getattr(cls, unique_set)\n",
    "        while True:\n",
    "            result = func(cls.FAKER)\n",
    "            if result not in unique_set_attr:\n",
    "                unique_set_attr.add(result)\n",
    "                return result\n",
    "\n",
    "    def get_username(self):\n",
    "\n",
    "        def make_username(f):\n",
    "            return f.email().split(\"@\")[0]\n",
    "\n",
    "        return self._make_unique(make_username, \"USERNAMES\")\n",
    "\n",
    "    @classmethod\n",
    "    def get_user_id(cls):\n",
    "\n",
    "        value = cls.LAST_ID\n",
    "        cls.LAST_ID += 1\n",
    "        return value\n",
    "\n",
    "    def timestamp(self):\n",
    "        return self.FAKER.date_time_between(self.active_begin,\n",
    "                                            self.active_end)\n",
    "\n",
    "    def product_id(self):\n",
    "        return int(self.FAKER.ean())\n",
    "\n",
    "    def product_action(self):\n",
    "        return self.FAKER.random_element(['view', 'add_to_cart', 'save', 'share', 'purchase'])\n",
    "\n",
    "    def activity(self):\n",
    "\n",
    "        # Simulate activity on an e-commerce site\n",
    "        return {\n",
    "            \"id\": self.user_id,\n",
    "            \"username\":self.username,\n",
    "            \"timestamp\": self.timestamp(),\n",
    "            \"product_id\": self.product_id(),\n",
    "            \"action\": self.product_action()\n",
    "            }"
   ],
   "metadata": {
    "collapsed": false,
    "pycharm": {
     "name": "#%%\n"
    }
   }
  },
  {
   "cell_type": "markdown",
   "source": [
    "### Making a dataset\n",
    "\n",
    "Now we can create data!"
   ],
   "metadata": {
    "collapsed": false,
    "pycharm": {
     "name": "#%% md\n"
    }
   }
  },
  {
   "cell_type": "code",
   "execution_count": 3,
   "outputs": [],
   "source": [
    "# Create 100 unique shoppers\n",
    "\n",
    "shoppers = [FakeShopper() for _ in range(100)]"
   ],
   "metadata": {
    "collapsed": false,
    "pycharm": {
     "name": "#%%\n"
    }
   }
  },
  {
   "cell_type": "code",
   "execution_count": 4,
   "outputs": [],
   "source": [
    "# We'd like some variation in the level of activity generated by each shopper.\n",
    "# We will use an exponential distribution to simulate the number of interactions\n",
    "\n",
    "import numpy as np\n",
    "\n",
    "n_activities = np.random.exponential(100, 100).astype(int) + 1  # Add 1 so a shopper has at least 1 activity\n"
   ],
   "metadata": {
    "collapsed": false,
    "pycharm": {
     "name": "#%%\n"
    }
   }
  },
  {
   "cell_type": "code",
   "execution_count": 5,
   "outputs": [
    {
     "data": {
      "text/plain": "    id       username           timestamp     product_id       action\n0   51    smithselena 2020-06-12 00:15:15  8167065674545         view\n1   70  newtonmichael 2020-06-12 00:15:45  8209493702992     purchase\n2    4        debra96 2020-06-12 00:17:48   905645568581  add_to_cart\n3   97     butlerlisa 2020-06-12 00:18:32  7494221770225     purchase\n4   60      dstephens 2020-06-12 00:21:38  1022934969283         save\n5   95          tlowe 2020-06-12 00:23:42  6034683060093     purchase\n6   42     brookschad 2020-06-12 00:24:35  1461324381166        share\n7   48         hadams 2020-06-12 00:29:27   892806748053  add_to_cart\n8   97     butlerlisa 2020-06-12 00:32:52  5201939637205        share\n9   55     grantpeggy 2020-06-12 00:34:08  9064054062729         view\n10  32     brittney02 2020-06-12 00:40:08  7634715095452         view\n11  88        brady02 2020-06-12 00:44:20  7884169394926     purchase\n12  40       ujohnson 2020-06-12 00:48:25  7469749015356         view\n13  47   vanessahayes 2020-06-12 00:51:59  9981509109054        share\n14  89   michaelzhang 2020-06-12 00:54:59  8609285893912     purchase\n15  12  timothyporter 2020-06-12 00:56:35  2505913896729         view\n16  97     butlerlisa 2020-06-12 00:57:39  5418005746338         view\n17  53    summersjuan 2020-06-12 00:58:02  8422869800898     purchase\n18  21         xjones 2020-06-12 01:03:33  3455485873699  add_to_cart\n19  48         hadams 2020-06-12 01:03:56  4892075603134        share",
      "text/html": "<div>\n<style scoped>\n    .dataframe tbody tr th:only-of-type {\n        vertical-align: middle;\n    }\n\n    .dataframe tbody tr th {\n        vertical-align: top;\n    }\n\n    .dataframe thead th {\n        text-align: right;\n    }\n</style>\n<table border=\"1\" class=\"dataframe\">\n  <thead>\n    <tr style=\"text-align: right;\">\n      <th></th>\n      <th>id</th>\n      <th>username</th>\n      <th>timestamp</th>\n      <th>product_id</th>\n      <th>action</th>\n    </tr>\n  </thead>\n  <tbody>\n    <tr>\n      <td>0</td>\n      <td>51</td>\n      <td>smithselena</td>\n      <td>2020-06-12 00:15:15</td>\n      <td>8167065674545</td>\n      <td>view</td>\n    </tr>\n    <tr>\n      <td>1</td>\n      <td>70</td>\n      <td>newtonmichael</td>\n      <td>2020-06-12 00:15:45</td>\n      <td>8209493702992</td>\n      <td>purchase</td>\n    </tr>\n    <tr>\n      <td>2</td>\n      <td>4</td>\n      <td>debra96</td>\n      <td>2020-06-12 00:17:48</td>\n      <td>905645568581</td>\n      <td>add_to_cart</td>\n    </tr>\n    <tr>\n      <td>3</td>\n      <td>97</td>\n      <td>butlerlisa</td>\n      <td>2020-06-12 00:18:32</td>\n      <td>7494221770225</td>\n      <td>purchase</td>\n    </tr>\n    <tr>\n      <td>4</td>\n      <td>60</td>\n      <td>dstephens</td>\n      <td>2020-06-12 00:21:38</td>\n      <td>1022934969283</td>\n      <td>save</td>\n    </tr>\n    <tr>\n      <td>5</td>\n      <td>95</td>\n      <td>tlowe</td>\n      <td>2020-06-12 00:23:42</td>\n      <td>6034683060093</td>\n      <td>purchase</td>\n    </tr>\n    <tr>\n      <td>6</td>\n      <td>42</td>\n      <td>brookschad</td>\n      <td>2020-06-12 00:24:35</td>\n      <td>1461324381166</td>\n      <td>share</td>\n    </tr>\n    <tr>\n      <td>7</td>\n      <td>48</td>\n      <td>hadams</td>\n      <td>2020-06-12 00:29:27</td>\n      <td>892806748053</td>\n      <td>add_to_cart</td>\n    </tr>\n    <tr>\n      <td>8</td>\n      <td>97</td>\n      <td>butlerlisa</td>\n      <td>2020-06-12 00:32:52</td>\n      <td>5201939637205</td>\n      <td>share</td>\n    </tr>\n    <tr>\n      <td>9</td>\n      <td>55</td>\n      <td>grantpeggy</td>\n      <td>2020-06-12 00:34:08</td>\n      <td>9064054062729</td>\n      <td>view</td>\n    </tr>\n    <tr>\n      <td>10</td>\n      <td>32</td>\n      <td>brittney02</td>\n      <td>2020-06-12 00:40:08</td>\n      <td>7634715095452</td>\n      <td>view</td>\n    </tr>\n    <tr>\n      <td>11</td>\n      <td>88</td>\n      <td>brady02</td>\n      <td>2020-06-12 00:44:20</td>\n      <td>7884169394926</td>\n      <td>purchase</td>\n    </tr>\n    <tr>\n      <td>12</td>\n      <td>40</td>\n      <td>ujohnson</td>\n      <td>2020-06-12 00:48:25</td>\n      <td>7469749015356</td>\n      <td>view</td>\n    </tr>\n    <tr>\n      <td>13</td>\n      <td>47</td>\n      <td>vanessahayes</td>\n      <td>2020-06-12 00:51:59</td>\n      <td>9981509109054</td>\n      <td>share</td>\n    </tr>\n    <tr>\n      <td>14</td>\n      <td>89</td>\n      <td>michaelzhang</td>\n      <td>2020-06-12 00:54:59</td>\n      <td>8609285893912</td>\n      <td>purchase</td>\n    </tr>\n    <tr>\n      <td>15</td>\n      <td>12</td>\n      <td>timothyporter</td>\n      <td>2020-06-12 00:56:35</td>\n      <td>2505913896729</td>\n      <td>view</td>\n    </tr>\n    <tr>\n      <td>16</td>\n      <td>97</td>\n      <td>butlerlisa</td>\n      <td>2020-06-12 00:57:39</td>\n      <td>5418005746338</td>\n      <td>view</td>\n    </tr>\n    <tr>\n      <td>17</td>\n      <td>53</td>\n      <td>summersjuan</td>\n      <td>2020-06-12 00:58:02</td>\n      <td>8422869800898</td>\n      <td>purchase</td>\n    </tr>\n    <tr>\n      <td>18</td>\n      <td>21</td>\n      <td>xjones</td>\n      <td>2020-06-12 01:03:33</td>\n      <td>3455485873699</td>\n      <td>add_to_cart</td>\n    </tr>\n    <tr>\n      <td>19</td>\n      <td>48</td>\n      <td>hadams</td>\n      <td>2020-06-12 01:03:56</td>\n      <td>4892075603134</td>\n      <td>share</td>\n    </tr>\n  </tbody>\n</table>\n</div>"
     },
     "execution_count": 5,
     "metadata": {},
     "output_type": "execute_result"
    }
   ],
   "source": [
    "import pandas as pd\n",
    "\n",
    "def generate_data(shoppers, acivities):\n",
    "    for shopper, n_actions in zip(shoppers, acivities):\n",
    "        for _ in range(n_actions):\n",
    "            yield shopper.activity()\n",
    "\n",
    "df = pd.DataFrame(generate_data(shoppers, n_activities))\n",
    "\n",
    "# Order by timestamp\n",
    "df = df.sort_values('timestamp').reset_index(drop=True)\n",
    "\n",
    "df.head(20)"
   ],
   "metadata": {
    "collapsed": false,
    "pycharm": {
     "name": "#%%\n"
    }
   }
  },
  {
   "cell_type": "markdown",
   "source": [
    "### Finally\n",
    "\n",
    "We've seen how we can synthesize datasets and embed them in a pandas DataFrame.\n",
    "\n",
    "This idea can also be extended to <keyword>SQLAlchemy</keyword> Models using introspection"
   ],
   "metadata": {
    "collapsed": false,
    "pycharm": {
     "name": "#%% md\n"
    }
   }
  },
  {
   "cell_type": "markdown",
   "source": [
    "```python\n",
    "class FakeModel:\n",
    "    \"\"\"\n",
    "    Base Class for Generating Fake Data from a Flask-SQLAlchemy Model.\n",
    "    \"\"\"\n",
    "    FAKER = Faker()\n",
    "\n",
    "    def __init__(self, model):\n",
    "        self.model = model\n",
    "        self._columns = dict(db.inspect(model).columns.items())\n",
    "\n",
    "    def map_type(self, k: str, v: Column):\n",
    "        \"\"\"\n",
    "        Use introspection to return a callable that returns an appropriate value\n",
    "        \"\"\"\n",
    "        if v.default:\n",
    "            return lambda: v.default.arg  # Return the default value\n",
    "\n",
    "        # Below we have to equate `Boolean` to native `bool`, `String` to native `str`, etc\n",
    "        sqltype = v.type\n",
    "        clstype = type(sqltype)\n",
    "\n",
    "        if clstype == Boolean:   # Simple choice\n",
    "            return lambda: choice([True, False])\n",
    "\n",
    "        elif clstype == DateTime:  # Customize date range as needed\n",
    "            return lambda: self.faker.date_time_between(start_date='-3d')\n",
    "\n",
    "\n",
    "        # Strings and Text will require greater care to return realistic values\n",
    "        # Here we look at the column name to guess what to return\n",
    "\n",
    "        elif clstype == String or clstype == Text:\n",
    "            max_len = sqltype.length or 512  # MySQL\n",
    "            if all([s in k for s in ['user', 'name']]):  # User name\n",
    "                return lambda: self.faker.user_name()[:max_len]\n",
    "            elif 'email' in k:  # Email address\n",
    "                return lambda: self.faker.ascii_email()[:max_len]\n",
    "            elif k == 'full_name':\n",
    "                return lambda: self.faker.name()[:max_len]\n",
    "            else:\n",
    "                return lambda: \"_\".join(self.faker.words())\n",
    "        else:\n",
    "            return lambda: None\n",
    "\n",
    "    @property\n",
    "    def columns(self) -> Dict[str, Column]:\n",
    "        return self._columns\n",
    "\n",
    "    def generate(self):\n",
    "        data = {}\n",
    "        for k, v in self.columns.items():\n",
    "            if v.primary_key:\n",
    "                continue\n",
    "            data[k] = self.map_type(k, v)()\n",
    "        return data\n",
    " ```\n"
   ],
   "metadata": {
    "collapsed": false,
    "pycharm": {
     "name": "#%% md\n"
    }
   }
  }
 ],
 "metadata": {
  "kernelspec": {
   "display_name": "Python 3",
   "language": "python",
   "name": "python3"
  },
  "language_info": {
   "codemirror_mode": {
    "name": "ipython",
    "version": 2
   },
   "file_extension": ".py",
   "mimetype": "text/x-python",
   "name": "python",
   "nbconvert_exporter": "python",
   "pygments_lexer": "ipython2",
   "version": "2.7.6"
  }
 },
 "nbformat": 4,
 "nbformat_minor": 0
}