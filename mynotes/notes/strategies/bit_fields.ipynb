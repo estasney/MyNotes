{
 "cells": [
  {
   "cell_type": "markdown",
   "metadata": {
    "collapsed": true,
    "pycharm": {
     "name": "#%% md\n"
    }
   },
   "source": [
    "# Bit Fields\n",
    "*ELI5 and Why They're Useful*\n",
    "\n",
    "After several years of programming in Python, I'd occassionally come across code like this snippet for Arduino:\n",
    "\n",
    "```cpp\n",
    "for(int i = 0; i < DATA_WIDTH; i++)\n",
    "    {\n",
    "        bitVal = digitalRead(dataPin);\n",
    "\n",
    "        /* Set the corresponding bit in bytesVal.\n",
    "        */\n",
    "        bytesVal |= (bitVal << ((DATA_WIDTH-1) - i));\n",
    "\n",
    "        /* Pulse the Clock (rising edge shifts the next bit).\n",
    "        */\n",
    "        digitalWrite(clockPin, HIGH);\n",
    "        delayMicroseconds(PULSE_WIDTH_USEC);\n",
    "        digitalWrite(clockPin, LOW);\n",
    "    }\n",
    "```\n",
    "\n",
    "I knew this was *bit-shfting* but didn't grasp the how or why. I recently came across some OpenCV code that deals with managing window flags - and it finally clicked.\n",
    "\n",
    "Bit Fields are powerful structures for managing several inputs that can interact!"
   ]
  },
  {
   "cell_type": "markdown",
   "source": [
    "## 'Bit' of Structure First\n",
    "\n",
    "We're working in binary - so a bit can be 1 or it can be 0. Think of these as:\n",
    "\n",
    "- 1 = True\n",
    "- 0 = False\n",
    "\n",
    "Where it gets interesting is when we want to encode several True/False statements in one structure. For instance, the input from a keyboard.\n",
    "\n",
    "Frequently, your computer is receiving multiple, simulatenous keystrokes (Shift, Alt, Space)\n",
    "\n",
    "I used to deal with situations like these with control flow that looked like:\n",
    "\n",
    "```python\n",
    "if 'a' in keys:\n",
    "    output = 'a'\n",
    "    if 'alt' in keys:\n",
    "        output = 'b'\n",
    "        if 'ctrl' in keys:\n",
    "            output = 'c'\n",
    "        elif 'space' in keys:\n",
    "            ...\n",
    "```\n",
    "\n",
    "That makes me anxious. It's fine for simple conditions but can quickly spiral out of control\n",
    "\n",
    "Lets break this problem down by looking at an example using a simple game controller. We have:\n",
    "- Movement Pad (Forward, Back, Left, Right)\n",
    "- A Button\n",
    "- B Button\n",
    "\n",
    "For a given input:\n",
    "- Movement - 5 Possible States (Including None)\n",
    "- A Button - 2 Possible States\n",
    "- B Button - 2 Possible States\n",
    "\n",
    "Which would look like"
   ],
   "metadata": {
    "collapsed": false,
    "pycharm": {
     "name": "#%% md\n"
    }
   }
  },
  {
   "cell_type": "code",
   "execution_count": 1,
   "outputs": [
    {
     "data": {
      "text/plain": "    A  B  Movement_0  Movement_1  Movement_2  Movement_3  Movement_4\n0   0  0           1           0           0           0           0\n1   0  1           1           0           0           0           0\n2   1  0           1           0           0           0           0\n3   1  1           1           0           0           0           0\n4   0  0           0           1           0           0           0\n5   0  1           0           1           0           0           0\n6   1  0           0           1           0           0           0\n7   1  1           0           1           0           0           0\n8   0  0           0           0           1           0           0\n9   0  1           0           0           1           0           0\n10  1  0           0           0           1           0           0\n11  1  1           0           0           1           0           0\n12  0  0           0           0           0           1           0\n13  0  1           0           0           0           1           0\n14  1  0           0           0           0           1           0\n15  1  1           0           0           0           1           0\n16  0  0           0           0           0           0           1\n17  0  1           0           0           0           0           1\n18  1  0           0           0           0           0           1\n19  1  1           0           0           0           0           1",
      "text/html": "<div>\n<style scoped>\n    .dataframe tbody tr th:only-of-type {\n        vertical-align: middle;\n    }\n\n    .dataframe tbody tr th {\n        vertical-align: top;\n    }\n\n    .dataframe thead th {\n        text-align: right;\n    }\n</style>\n<table border=\"1\" class=\"dataframe\">\n  <thead>\n    <tr style=\"text-align: right;\">\n      <th></th>\n      <th>A</th>\n      <th>B</th>\n      <th>Movement_0</th>\n      <th>Movement_1</th>\n      <th>Movement_2</th>\n      <th>Movement_3</th>\n      <th>Movement_4</th>\n    </tr>\n  </thead>\n  <tbody>\n    <tr>\n      <th>0</th>\n      <td>0</td>\n      <td>0</td>\n      <td>1</td>\n      <td>0</td>\n      <td>0</td>\n      <td>0</td>\n      <td>0</td>\n    </tr>\n    <tr>\n      <th>1</th>\n      <td>0</td>\n      <td>1</td>\n      <td>1</td>\n      <td>0</td>\n      <td>0</td>\n      <td>0</td>\n      <td>0</td>\n    </tr>\n    <tr>\n      <th>2</th>\n      <td>1</td>\n      <td>0</td>\n      <td>1</td>\n      <td>0</td>\n      <td>0</td>\n      <td>0</td>\n      <td>0</td>\n    </tr>\n    <tr>\n      <th>3</th>\n      <td>1</td>\n      <td>1</td>\n      <td>1</td>\n      <td>0</td>\n      <td>0</td>\n      <td>0</td>\n      <td>0</td>\n    </tr>\n    <tr>\n      <th>4</th>\n      <td>0</td>\n      <td>0</td>\n      <td>0</td>\n      <td>1</td>\n      <td>0</td>\n      <td>0</td>\n      <td>0</td>\n    </tr>\n    <tr>\n      <th>5</th>\n      <td>0</td>\n      <td>1</td>\n      <td>0</td>\n      <td>1</td>\n      <td>0</td>\n      <td>0</td>\n      <td>0</td>\n    </tr>\n    <tr>\n      <th>6</th>\n      <td>1</td>\n      <td>0</td>\n      <td>0</td>\n      <td>1</td>\n      <td>0</td>\n      <td>0</td>\n      <td>0</td>\n    </tr>\n    <tr>\n      <th>7</th>\n      <td>1</td>\n      <td>1</td>\n      <td>0</td>\n      <td>1</td>\n      <td>0</td>\n      <td>0</td>\n      <td>0</td>\n    </tr>\n    <tr>\n      <th>8</th>\n      <td>0</td>\n      <td>0</td>\n      <td>0</td>\n      <td>0</td>\n      <td>1</td>\n      <td>0</td>\n      <td>0</td>\n    </tr>\n    <tr>\n      <th>9</th>\n      <td>0</td>\n      <td>1</td>\n      <td>0</td>\n      <td>0</td>\n      <td>1</td>\n      <td>0</td>\n      <td>0</td>\n    </tr>\n    <tr>\n      <th>10</th>\n      <td>1</td>\n      <td>0</td>\n      <td>0</td>\n      <td>0</td>\n      <td>1</td>\n      <td>0</td>\n      <td>0</td>\n    </tr>\n    <tr>\n      <th>11</th>\n      <td>1</td>\n      <td>1</td>\n      <td>0</td>\n      <td>0</td>\n      <td>1</td>\n      <td>0</td>\n      <td>0</td>\n    </tr>\n    <tr>\n      <th>12</th>\n      <td>0</td>\n      <td>0</td>\n      <td>0</td>\n      <td>0</td>\n      <td>0</td>\n      <td>1</td>\n      <td>0</td>\n    </tr>\n    <tr>\n      <th>13</th>\n      <td>0</td>\n      <td>1</td>\n      <td>0</td>\n      <td>0</td>\n      <td>0</td>\n      <td>1</td>\n      <td>0</td>\n    </tr>\n    <tr>\n      <th>14</th>\n      <td>1</td>\n      <td>0</td>\n      <td>0</td>\n      <td>0</td>\n      <td>0</td>\n      <td>1</td>\n      <td>0</td>\n    </tr>\n    <tr>\n      <th>15</th>\n      <td>1</td>\n      <td>1</td>\n      <td>0</td>\n      <td>0</td>\n      <td>0</td>\n      <td>1</td>\n      <td>0</td>\n    </tr>\n    <tr>\n      <th>16</th>\n      <td>0</td>\n      <td>0</td>\n      <td>0</td>\n      <td>0</td>\n      <td>0</td>\n      <td>0</td>\n      <td>1</td>\n    </tr>\n    <tr>\n      <th>17</th>\n      <td>0</td>\n      <td>1</td>\n      <td>0</td>\n      <td>0</td>\n      <td>0</td>\n      <td>0</td>\n      <td>1</td>\n    </tr>\n    <tr>\n      <th>18</th>\n      <td>1</td>\n      <td>0</td>\n      <td>0</td>\n      <td>0</td>\n      <td>0</td>\n      <td>0</td>\n      <td>1</td>\n    </tr>\n    <tr>\n      <th>19</th>\n      <td>1</td>\n      <td>1</td>\n      <td>0</td>\n      <td>0</td>\n      <td>0</td>\n      <td>0</td>\n      <td>1</td>\n    </tr>\n  </tbody>\n</table>\n</div>"
     },
     "execution_count": 1,
     "metadata": {},
     "output_type": "execute_result"
    }
   ],
   "source": [
    "import pandas as pd\n",
    "from itertools import product\n",
    "df = pd.DataFrame(product(range(5), range(2), range(2)), columns=['Movement', 'A', 'B'])\n",
    "\n",
    "# We have to convert Movement to binary.\n",
    "df = pd.get_dummies(df, columns=['Movement']); df"
   ],
   "metadata": {
    "collapsed": false,
    "pycharm": {
     "name": "#%%\n"
    }
   }
  },
  {
   "cell_type": "code",
   "execution_count": 2,
   "outputs": [
    {
     "data": {
      "text/plain": "    A  B  Left  Right  Up  Down\n0   0  0     0      0   0     0\n1   0  1     0      0   0     0\n2   1  0     0      0   0     0\n3   1  1     0      0   0     0\n4   0  0     1      0   0     0\n5   0  1     1      0   0     0\n6   1  0     1      0   0     0\n7   1  1     1      0   0     0\n8   0  0     0      1   0     0\n9   0  1     0      1   0     0\n10  1  0     0      1   0     0\n11  1  1     0      1   0     0\n12  0  0     0      0   1     0\n13  0  1     0      0   1     0\n14  1  0     0      0   1     0\n15  1  1     0      0   1     0\n16  0  0     0      0   0     1\n17  0  1     0      0   0     1\n18  1  0     0      0   0     1\n19  1  1     0      0   0     1",
      "text/html": "<div>\n<style scoped>\n    .dataframe tbody tr th:only-of-type {\n        vertical-align: middle;\n    }\n\n    .dataframe tbody tr th {\n        vertical-align: top;\n    }\n\n    .dataframe thead th {\n        text-align: right;\n    }\n</style>\n<table border=\"1\" class=\"dataframe\">\n  <thead>\n    <tr style=\"text-align: right;\">\n      <th></th>\n      <th>A</th>\n      <th>B</th>\n      <th>Left</th>\n      <th>Right</th>\n      <th>Up</th>\n      <th>Down</th>\n    </tr>\n  </thead>\n  <tbody>\n    <tr>\n      <th>0</th>\n      <td>0</td>\n      <td>0</td>\n      <td>0</td>\n      <td>0</td>\n      <td>0</td>\n      <td>0</td>\n    </tr>\n    <tr>\n      <th>1</th>\n      <td>0</td>\n      <td>1</td>\n      <td>0</td>\n      <td>0</td>\n      <td>0</td>\n      <td>0</td>\n    </tr>\n    <tr>\n      <th>2</th>\n      <td>1</td>\n      <td>0</td>\n      <td>0</td>\n      <td>0</td>\n      <td>0</td>\n      <td>0</td>\n    </tr>\n    <tr>\n      <th>3</th>\n      <td>1</td>\n      <td>1</td>\n      <td>0</td>\n      <td>0</td>\n      <td>0</td>\n      <td>0</td>\n    </tr>\n    <tr>\n      <th>4</th>\n      <td>0</td>\n      <td>0</td>\n      <td>1</td>\n      <td>0</td>\n      <td>0</td>\n      <td>0</td>\n    </tr>\n    <tr>\n      <th>5</th>\n      <td>0</td>\n      <td>1</td>\n      <td>1</td>\n      <td>0</td>\n      <td>0</td>\n      <td>0</td>\n    </tr>\n    <tr>\n      <th>6</th>\n      <td>1</td>\n      <td>0</td>\n      <td>1</td>\n      <td>0</td>\n      <td>0</td>\n      <td>0</td>\n    </tr>\n    <tr>\n      <th>7</th>\n      <td>1</td>\n      <td>1</td>\n      <td>1</td>\n      <td>0</td>\n      <td>0</td>\n      <td>0</td>\n    </tr>\n    <tr>\n      <th>8</th>\n      <td>0</td>\n      <td>0</td>\n      <td>0</td>\n      <td>1</td>\n      <td>0</td>\n      <td>0</td>\n    </tr>\n    <tr>\n      <th>9</th>\n      <td>0</td>\n      <td>1</td>\n      <td>0</td>\n      <td>1</td>\n      <td>0</td>\n      <td>0</td>\n    </tr>\n    <tr>\n      <th>10</th>\n      <td>1</td>\n      <td>0</td>\n      <td>0</td>\n      <td>1</td>\n      <td>0</td>\n      <td>0</td>\n    </tr>\n    <tr>\n      <th>11</th>\n      <td>1</td>\n      <td>1</td>\n      <td>0</td>\n      <td>1</td>\n      <td>0</td>\n      <td>0</td>\n    </tr>\n    <tr>\n      <th>12</th>\n      <td>0</td>\n      <td>0</td>\n      <td>0</td>\n      <td>0</td>\n      <td>1</td>\n      <td>0</td>\n    </tr>\n    <tr>\n      <th>13</th>\n      <td>0</td>\n      <td>1</td>\n      <td>0</td>\n      <td>0</td>\n      <td>1</td>\n      <td>0</td>\n    </tr>\n    <tr>\n      <th>14</th>\n      <td>1</td>\n      <td>0</td>\n      <td>0</td>\n      <td>0</td>\n      <td>1</td>\n      <td>0</td>\n    </tr>\n    <tr>\n      <th>15</th>\n      <td>1</td>\n      <td>1</td>\n      <td>0</td>\n      <td>0</td>\n      <td>1</td>\n      <td>0</td>\n    </tr>\n    <tr>\n      <th>16</th>\n      <td>0</td>\n      <td>0</td>\n      <td>0</td>\n      <td>0</td>\n      <td>0</td>\n      <td>1</td>\n    </tr>\n    <tr>\n      <th>17</th>\n      <td>0</td>\n      <td>1</td>\n      <td>0</td>\n      <td>0</td>\n      <td>0</td>\n      <td>1</td>\n    </tr>\n    <tr>\n      <th>18</th>\n      <td>1</td>\n      <td>0</td>\n      <td>0</td>\n      <td>0</td>\n      <td>0</td>\n      <td>1</td>\n    </tr>\n    <tr>\n      <th>19</th>\n      <td>1</td>\n      <td>1</td>\n      <td>0</td>\n      <td>0</td>\n      <td>0</td>\n      <td>1</td>\n    </tr>\n  </tbody>\n</table>\n</div>"
     },
     "execution_count": 2,
     "metadata": {},
     "output_type": "execute_result"
    }
   ],
   "source": [
    "# Note that Movement_0 is redundant. If Movement_1 - Movement_4 are all 0, then we aren't moving\n",
    "def rename_movement(col):\n",
    "    if not col.startswith(\"Move\"):\n",
    "        return col\n",
    "    names = ['Left', 'Right', 'Up', 'Down']\n",
    "    n = int(col.split(\"_\")[1]) - 1\n",
    "    return names[n]\n",
    "\n",
    "df = df.drop(columns=['Movement_0']).rename(columns=rename_movement); df"
   ],
   "metadata": {
    "collapsed": false,
    "pycharm": {
     "name": "#%%\n"
    }
   }
  },
  {
   "cell_type": "markdown",
   "source": [
    "## Way of the Bitshifter\n",
    "\n",
    "`{'A': 1, 'B': 1, 'Left': 0, 'Right': 0, 'Up': 0, 'Down': 0}` is easier to read\n",
    "\n",
    "We could also represent this as tuple:\n",
    "`(1, 1, 0, 0, 0, 0)`\n",
    "\n",
    "But if we're taking that step, we might as well go for a Bit Field\n",
    "\n",
    "`0b110000`\n",
    "\n",
    "Where `0b` is the binary prefix in Python.\n",
    "\n",
    "So the input is ... `48` ??"
   ],
   "metadata": {
    "collapsed": false,
    "pycharm": {
     "name": "#%% md\n"
    }
   }
  },
  {
   "cell_type": "code",
   "execution_count": 3,
   "outputs": [
    {
     "data": {
      "text/plain": "48"
     },
     "execution_count": 3,
     "metadata": {},
     "output_type": "execute_result"
    }
   ],
   "source": [
    "# Yes, as a base 10 integer\n",
    "# We can make an integer from binary by specifying base = 2. I.e. 2 possible values\n",
    "int('0b110000', base=2)"
   ],
   "metadata": {
    "collapsed": false,
    "pycharm": {
     "name": "#%%\n"
    }
   }
  },
  {
   "cell_type": "markdown",
   "source": [
    "We can also lookup an individual field\n",
    "\n",
    "A B Left Right Up Down\n",
    "\n",
    "1 1  0     0   0   0"
   ],
   "metadata": {
    "collapsed": false,
    "pycharm": {
     "name": "#%% md\n"
    }
   }
  },
  {
   "cell_type": "code",
   "execution_count": 4,
   "outputs": [
    {
     "name": "stdout",
     "output_type": "stream",
     "text": [
      "A Pressed: True\n",
      "B Pressed: True\n",
      "Left Pressed: False\n",
      "Right Pressed: False\n",
      "Up Pressed: False\n",
      "Down Pressed: False\n"
     ]
    }
   ],
   "source": [
    "def check_field(x, position):\n",
    "    return (x >> position) & 1 != 0\n",
    "\n",
    "print(f\"A Pressed: {check_field(48, 5)}\")\n",
    "print(f\"B Pressed: {check_field(48, 4)}\")\n",
    "print(f\"Left Pressed: {check_field(48, 3)}\")\n",
    "print(f\"Right Pressed: {check_field(48, 2)}\")\n",
    "print(f\"Up Pressed: {check_field(48, 1)}\")\n",
    "print(f\"Down Pressed: {check_field(48, 0)}\")"
   ],
   "metadata": {
    "collapsed": false,
    "pycharm": {
     "name": "#%%\n"
    }
   }
  },
  {
   "cell_type": "code",
   "execution_count": 5,
   "outputs": [
    {
     "name": "stdout",
     "output_type": "stream",
     "text": [
      "A Pressed: True\n",
      "B Pressed: True\n",
      "Left Pressed: False\n",
      "Right Pressed: False\n",
      "Up Pressed: False\n",
      "Down Pressed: False\n"
     ]
    }
   ],
   "source": [
    "def check_bit(x, button):\n",
    "    return (x & button) != 0\n",
    "\n",
    "# Another common pattern\n",
    "\n",
    "DOWN = 1 << 0\n",
    "UP = 1 << 1\n",
    "RIGHT = 1 << 2\n",
    "LEFT = 1 << 3\n",
    "B = 1 << 4\n",
    "A = 1 << 5\n",
    "\n",
    "print(f\"A Pressed: {check_bit(48, A)}\")\n",
    "print(f\"B Pressed: {check_bit(48, B)}\")\n",
    "print(f\"Left Pressed: {check_bit(48, LEFT)}\")\n",
    "print(f\"Right Pressed: {check_bit(48, RIGHT)}\")\n",
    "print(f\"Up Pressed: {check_bit(48, UP)}\")\n",
    "print(f\"Down Pressed: {check_bit(48, DOWN)}\")"
   ],
   "metadata": {
    "collapsed": false,
    "pycharm": {
     "name": "#%%\n"
    }
   }
  },
  {
   "cell_type": "code",
   "execution_count": 6,
   "outputs": [
    {
     "name": "stdout",
     "output_type": "stream",
     "text": [
      "Key Pressed!\n"
     ]
    }
   ],
   "source": [
    "# Was there any input?\n",
    "\n",
    "key_state = 0    # Nothing Pressed\n",
    "key_state |= 48   # Our input\n",
    "\n",
    "if key_state:\n",
    "    print(\"Key Pressed!\")"
   ],
   "metadata": {
    "collapsed": false,
    "pycharm": {
     "name": "#%%\n"
    }
   }
  },
  {
   "cell_type": "code",
   "execution_count": 7,
   "outputs": [
    {
     "name": "stdout",
     "output_type": "stream",
     "text": [
      "A Released: False\n",
      "B Released: True\n",
      "Left Released: False\n",
      "Right Released: False\n",
      "Up Released: False\n",
      "Down Released: False\n"
     ]
    }
   ],
   "source": [
    "key_state = 48  # From above\n",
    "# '0b110000'\n",
    "\n",
    "# Now we get new input. B has been released and Up has been pressed\n",
    "new_input = int('0b100010', 2)   # 2\n",
    "\n",
    "# Which buttons were released?\n",
    "diff = key_state ^ new_input\n",
    "released = key_state & diff\n",
    "\n",
    "print(f\"A Released: {check_bit(released, A)}\")\n",
    "print(f\"B Released: {check_bit(released, B)}\")\n",
    "print(f\"Left Released: {check_bit(released, LEFT)}\")\n",
    "print(f\"Right Released: {check_bit(released, RIGHT)}\")\n",
    "print(f\"Up Released: {check_bit(released, UP)}\")\n",
    "print(f\"Down Released: {check_bit(released, DOWN)}\")\n",
    "\n"
   ],
   "metadata": {
    "collapsed": false,
    "pycharm": {
     "name": "#%%\n"
    }
   }
  }
 ],
 "metadata": {
  "kernelspec": {
   "display_name": "Python 3",
   "language": "python",
   "name": "python3"
  },
  "language_info": {
   "codemirror_mode": {
    "name": "ipython",
    "version": 2
   },
   "file_extension": ".py",
   "mimetype": "text/x-python",
   "name": "python",
   "nbconvert_exporter": "python",
   "pygments_lexer": "ipython2",
   "version": "2.7.6"
  }
 },
 "nbformat": 4,
 "nbformat_minor": 0
}