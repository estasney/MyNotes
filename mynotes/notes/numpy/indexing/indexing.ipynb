{
 "cells": [
  {
   "cell_type": "markdown",
   "metadata": {
    "collapsed": true,
    "pycharm": {
     "name": "#%% md\n"
    }
   },
   "source": [
    "# Indexing in NumPy\n",
    "*Some use cases* "
   ]
  },
  {
   "cell_type": "markdown",
   "source": [
    "## Compress overlapping indices\n",
    "\n",
    "### Background\n",
    "`matches` below is the (truncated) result of calling `spacy.Matcher` on a Doc.\n",
    "\n",
    "Each tuple corresponds to a single match. So to return the result of the first match we run:\n",
    "```python\n",
    "doc[29:30]\n",
    "``` \n",
    "Remember, the end slice is exclusive - we expect only one token. \n",
    "\n",
    "Notice there is some duplication here in the spans. What we want to do is consolidate our matches: \n",
    "\n",
    "`[(29, 30), (29, 31)]`\n",
    "\n",
    "Should become:\n",
    "\n",
    "`[(29, 31)]`\n",
    "\n",
    "### Method\n",
    "There several methods to solve this - here's one that's efficient and relatively clean. I take advantage of `numpy` indexing. "
   ],
   "metadata": {
    "collapsed": false,
    "pycharm": {
     "name": "#%% md\n"
    }
   }
  },
  {
   "cell_type": "code",
   "execution_count": 1,
   "outputs": [],
   "source": [
    "import numpy as np\n",
    "doc_len = 700\n",
    "\n",
    "# Matches\n",
    "matches = \\\n",
    "[(29, 30),\n",
    " (29, 31),\n",
    " (30, 31),\n",
    " (32, 33),\n",
    " (86, 87),\n",
    " (96, 97),\n",
    " (192, 193),\n",
    " (194, 195),\n",
    " (196, 197),\n",
    " (196, 198),\n",
    " (197, 198),\n",
    " (199, 200),\n",
    " (201, 202),\n",
    " (209, 210),\n",
    " (268, 269),\n",
    " (270, 271),\n",
    " (313, 314),\n",
    " (328, 329),\n",
    " (330, 331),\n",
    " (332, 333),\n",
    " (332, 334),\n",
    " (333, 334),\n",
    " (354, 355),\n",
    " (357, 358),\n",
    " (381, 382),\n",
    " (396, 397),\n",
    " (399, 400),\n",
    " (430, 431),\n",
    " (433, 434),\n",
    " (445, 446),\n",
    " (457, 458),\n",
    " (461, 462),\n",
    " (461, 463),\n",
    " (462, 463),\n",
    " (482, 483),\n",
    " (484, 485),\n",
    " (486, 487),\n",
    " (489, 490),\n",
    " (544, 545)]"
   ],
   "metadata": {
    "collapsed": false,
    "pycharm": {
     "name": "#%%\n",
     "is_executing": false
    }
   }
  },
  {
   "cell_type": "code",
   "execution_count": 2,
   "outputs": [],
   "source": [
    "z = np.zeros(doc_len)\n",
    "i = np.unique(np.hstack([np.arange(*x) for x in matches]))\n",
    "z[i] = 1\n",
    "result = np.argwhere(z).ravel()"
   ],
   "metadata": {
    "collapsed": false,
    "pycharm": {
     "name": "#%%\n",
     "is_executing": false
    }
   }
  },
  {
   "cell_type": "markdown",
   "source": [
    "What we have now is our `z` array where values of `1` indicate that a token was a member of a match.\n",
    "\n",
    "Since we expanded the ranges to get to this point, we need to get them back into a `(start, stop)` format."
   ],
   "metadata": {
    "collapsed": false,
    "pycharm": {
     "name": "#%% md\n"
    }
   }
  },
  {
   "cell_type": "code",
   "execution_count": 3,
   "outputs": [
    {
     "data": {
      "text/plain": "[(29, 31),\n (32, 33),\n (86, 87),\n (96, 97),\n (192, 193),\n (194, 195),\n (196, 198),\n (199, 200),\n (201, 202),\n (209, 210),\n (268, 269),\n (270, 271),\n (313, 314),\n (328, 329),\n (330, 331),\n (332, 334),\n (354, 355),\n (357, 358),\n (381, 382),\n (396, 397),\n (399, 400),\n (430, 431),\n (433, 434),\n (445, 446),\n (457, 458),\n (461, 463),\n (482, 483),\n (484, 485),\n (486, 487),\n (489, 490)]"
     },
     "metadata": {},
     "output_type": "execute_result",
     "execution_count": 3
    }
   ],
   "source": [
    "from toolz import sliding_window\n",
    "spans = []\n",
    "start_idx = None\n",
    "for a, b in sliding_window(2, result):\n",
    "    if a + 1 == b:  # is it continuous?\n",
    "        if start_idx:\n",
    "            continue\n",
    "        else:\n",
    "            start_idx = a\n",
    "            continue\n",
    "    else:\n",
    "        if start_idx:\n",
    "            spans.append((start_idx, a))\n",
    "            start_idx = None\n",
    "            continue\n",
    "        else:\n",
    "            spans.append(a)\n",
    "\n",
    "# We have left AND right side inclusive            \n",
    "span_range_form = []\n",
    "for span in spans:\n",
    "    if isinstance(span, tuple):\n",
    "        span_range_form.append((span[0], span[1] + 1))\n",
    "    else:\n",
    "        span_range_form.append((span, span+ 1))\n",
    "span_range_form"
   ],
   "metadata": {
    "collapsed": false,
    "pycharm": {
     "name": "#%%\n",
     "is_executing": false
    }
   }
  },
  {
   "cell_type": "markdown",
   "source": [
    "### Speed Test"
   ],
   "metadata": {
    "collapsed": false
   }
  },
  {
   "cell_type": "code",
   "execution_count": 4,
   "outputs": [
    {
     "name": "stdout",
     "text": [
      "119 µs ± 4.42 µs per loop (mean ± std. dev. of 50 runs, 10000 loops each)\n"
     ],
     "output_type": "stream"
    }
   ],
   "source": [
    "%%timeit -r50\n",
    "z = np.zeros(doc_len)\n",
    "i = np.unique(np.hstack([np.arange(*x) for x in matches]))\n",
    "z[i] = 1\n",
    "result = np.argwhere(z).ravel()\n",
    "spans = []\n",
    "start_idx = None\n",
    "for a, b in sliding_window(2, result):\n",
    "    if a + 1 == b:  # is it continuous?\n",
    "        if start_idx:\n",
    "            continue\n",
    "        else:\n",
    "            start_idx = a\n",
    "            continue\n",
    "    else:\n",
    "        if start_idx:\n",
    "            spans.append((start_idx, a))\n",
    "            start_idx = None\n",
    "            continue\n",
    "        else:\n",
    "            spans.append(a)\n",
    "\n",
    "# We have left AND right side inclusive            \n",
    "span_range_form = []\n",
    "for span in spans:\n",
    "    if isinstance(span, tuple):\n",
    "        span_range_form.append((span[0], span[1] + 1))\n",
    "    else:\n",
    "        span_range_form.append((span, span+ 1))\n"
   ],
   "metadata": {
    "collapsed": false,
    "pycharm": {
     "name": "#%%\n",
     "is_executing": false
    }
   }
  }
 ],
 "metadata": {
  "kernelspec": {
   "display_name": "Python 3",
   "language": "python",
   "name": "python3"
  },
  "language_info": {
   "codemirror_mode": {
    "name": "ipython",
    "version": 2
   },
   "file_extension": ".py",
   "mimetype": "text/x-python",
   "name": "python",
   "nbconvert_exporter": "python",
   "pygments_lexer": "ipython2",
   "version": "2.7.6"
  },
  "pycharm": {
   "stem_cell": {
    "cell_type": "raw",
    "source": [],
    "metadata": {
     "collapsed": false
    }
   }
  }
 },
 "nbformat": 4,
 "nbformat_minor": 0
}