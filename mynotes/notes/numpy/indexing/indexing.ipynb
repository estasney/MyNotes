{
 "cells": [
  {
   "cell_type": "markdown",
   "metadata": {
    "collapsed": true,
    "pycharm": {
     "name": "#%% md\n"
    }
   },
   "source": [
    "# Indexing in NumPy\n",
    "*Some use cases* "
   ]
  },
  {
   "cell_type": "markdown",
   "source": [
    "## Compress overlapping indices\n",
    "\n",
    "### Background\n",
    "`matches` below are slices of an iterable that match a pattern. What we'd like to do is to compress it.\n",
    "\n",
    "There are several approaches here.\n",
    "\n",
    "Here's one way with `numpy`\n",
    "    "
   ],
   "metadata": {
    "collapsed": false,
    "pycharm": {
     "name": "#%% md\n"
    }
   }
  },
  {
   "cell_type": "code",
   "execution_count": null,
   "outputs": [],
   "source": [
    "import numpy as np\n",
    "doc_len = 700\n",
    "matches = \\\n",
    "[(29, 30),\n",
    " (29, 31),\n",
    " (30, 31),\n",
    " (32, 33),\n",
    " (86, 87),\n",
    " (96, 97),\n",
    " (192, 193),\n",
    " (194, 195),\n",
    " (196, 197),\n",
    " (196, 198),\n",
    " (197, 198),\n",
    " (199, 200),\n",
    " (201, 202),\n",
    " (209, 210),\n",
    " (268, 269),\n",
    " (270, 271),\n",
    " (313, 314),\n",
    " (328, 329),\n",
    " (330, 331),\n",
    " (332, 333),\n",
    " (332, 334),\n",
    " (333, 334),\n",
    " (354, 355),\n",
    " (357, 358),\n",
    " (381, 382),\n",
    " (396, 397),\n",
    " (399, 400),\n",
    " (430, 431),\n",
    " (433, 434),\n",
    " (445, 446),\n",
    " (457, 458),\n",
    " (461, 462),\n",
    " (461, 463),\n",
    " (462, 463),\n",
    " (482, 483),\n",
    " (484, 485),\n",
    " (486, 487),\n",
    " (489, 490),\n",
    " (544, 545)]"
   ],
   "metadata": {
    "collapsed": false,
    "pycharm": {
     "name": "#%%\n"
    }
   }
  },
  {
   "cell_type": "code",
   "execution_count": null,
   "outputs": [],
   "source": [
    "z = np.zeros(doc_len)\n",
    "i = np.array([matches])\n",
    "z[i] = 1"
   ],
   "metadata": {
    "collapsed": false,
    "pycharm": {
     "name": "#%%\n"
    }
   }
  },
  {
   "cell_type": "code",
   "execution_count": null,
   "outputs": [],
   "source": [],
   "metadata": {
    "collapsed": false,
    "pycharm": {
     "name": "#%%\n"
    }
   }
  }
 ],
 "metadata": {
  "kernelspec": {
   "display_name": "Python 3",
   "language": "python",
   "name": "python3"
  },
  "language_info": {
   "codemirror_mode": {
    "name": "ipython",
    "version": 2
   },
   "file_extension": ".py",
   "mimetype": "text/x-python",
   "name": "python",
   "nbconvert_exporter": "python",
   "pygments_lexer": "ipython2",
   "version": "2.7.6"
  },
  "pycharm": {
   "stem_cell": {
    "cell_type": "raw",
    "source": [],
    "metadata": {
     "collapsed": false
    }
   }
  }
 },
 "nbformat": 4,
 "nbformat_minor": 0
}