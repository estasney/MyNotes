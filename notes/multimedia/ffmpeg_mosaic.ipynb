{
 "cells": [
  {
   "cell_type": "markdown",
   "metadata": {
    "collapsed": true,
    "pycharm": {
     "name": "#%% md\n"
    }
   },
   "source": [
    "# Stacking <keyword>RTSP</keyword> Streams with <keyword>ffmpeg</keyword>\n",
    "*Because ffmpeg is awesome!*\n",
    "<created>01/20/2021</created>\n",
    "<updated>01/04/2022</updated>"
   ]
  },
  {
   "cell_type": "markdown",
   "metadata": {
    "collapsed": false
   },
   "source": [
    "### Background\n",
    "\n",
    "I have 4 RTSP Streams available from my local NVR. I wanted to combine them into a single video.\n",
    "\n",
    "Since I'm also using these as part of a CV Project with a <keyword>Jetson Nano</keyword>, I wanted to be able to grab frames every `n` seconds"
   ]
  },
  {
   "cell_type": "markdown",
   "metadata": {
    "collapsed": false,
    "pycharm": {
     "name": "#%% md\n"
    }
   },
   "source": [
    "- Recommended Flags as Streams start Synchronously\n",
    "\n",
    "`ffmpeg -fflags nobuffer -flags low_delay -strict experimental`\n",
    "\n",
    "\n",
    "- Multiple Inputs\n",
    "\n",
    "`-i input0 -i input1 -i input2 -i input3 ...`\n",
    "\n",
    "- Xstack see [Stackoverflow](https://stackoverflow.com/questions/11552565/vertically-or-horizontally-stack-mosaic-several-videos-using-ffmpeg#answer-33764934)\n",
    "\n",
    "` -filter_complex \"[0:v][1:v][2:v][3:v]xstack=inputs=4:layout=0_0|w0_0|0_h0|w0_h0[v]\"`\n",
    "\n",
    "- Map to output\n",
    "\n",
    "`-map \"[v]\"  output.mp4`\n",
    "\n",
    "\n",
    "- All Together\n",
    "\n",
    "```shell\n",
    "\n",
    "ffmpeg -fflags nobuffer -flags low_delay -strict experimental \\\n",
    "    -i input0 -i input1 -i input2 -i input3 -filter_complex \\\n",
    "    \"[0:v][1:v][2:v][3:v]xstack=inputs=4:layout=0_0|w0_0|0_h0|w0_h0[v]\" -map \"[v]\" \\\n",
    "    output.mp4\n",
    "\n",
    "```\n"
   ]
  },
  {
   "cell_type": "markdown",
   "metadata": {
    "collapsed": false,
    "pycharm": {
     "name": "#%% md\n"
    }
   },
   "source": [
    "### Mosaic to Images\n",
    "\n",
    "Since we're using a complex filtergraph we can't add `-vf fps=x` after `-map`\n",
    "\n",
    "Make the following modification to the filtergraph:\n",
    "\n",
    "`\"[0:v][1:v][2:v][3:v]xstack=inputs=4:layout=0_0|w0_0|0_h0|w0_h0[v];[v]fps=1[img]\"`\n",
    "\n",
    "Basically, we're saying:\n",
    "- take the output of xstack, 'v' ...\n",
    "- take 1 frame per second ...\n",
    "- call this operation 'img'\n",
    "\n",
    "Then we just change the name `map` uses to to `-map \"[img]\"`\n",
    "\n",
    "Lastly, since this won't go to a video file, modify the output to:\n",
    "\n",
    "`Image_%08d.jpg`\n",
    "\n",
    "Which is a template that names images sequentially:\n",
    "\n",
    "- Image_00000001.jpg\n",
    "- Image_00000002.jpg\n",
    "...\n",
    "\n",
    "#### All Together\n",
    "\n",
    "*Using variables for input*\n",
    "\n",
    "```shell\n",
    "\n",
    "ffmpeg -fflags nobuffer -flags low_delay -strict experimental -i \"$I0\" -i \"$I1\" -i \"$I2\" -i \"$I3\" -filter_complex \\\n",
    "  \"[0:v][1:v][2:v][3:v]xstack=inputs=4:layout=0_0|w0_0|0_h0|w0_h0[v];[v]fps=1[img]\" -map \"[img]\" \\\n",
    "  /somepath/Image_%08d.jpg\n",
    "\n",
    "```\n"
   ]
  }
 ],
 "metadata": {
  "kernelspec": {
   "display_name": "Python 3",
   "language": "python",
   "name": "python3"
  },
  "language_info": {
   "codemirror_mode": {
    "name": "ipython",
    "version": 2
   },
   "file_extension": ".py",
   "mimetype": "text/x-python",
   "name": "python",
   "nbconvert_exporter": "python",
   "pygments_lexer": "ipython2",
   "version": "2.7.6"
  }
 },
 "nbformat": 4,
 "nbformat_minor": 0
}