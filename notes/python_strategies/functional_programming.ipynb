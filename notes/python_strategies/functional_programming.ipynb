{
 "cells": [
  {
   "cell_type": "markdown",
   "metadata": {
    "collapsed": true,
    "pycharm": {
     "name": "#%% md\n"
    }
   },
   "source": [
    "# Functional Programming\n",
    "*With toolz*\n",
    "\n",
    "I'm assuming you are well aware of the builtin `functools` module. You may have come across [toolz](https://github.com/pytoolz/toolz).\n",
    "\n",
    "Until recently, I used it almost exclusively for [get-in](https://toolz.readthedocs.io/en/latest/api.html#toolz.dicttoolz.get_in)\n",
    "and [groupby](https://toolz.readthedocs.io/en/latest/api.html#toolz.itertoolz.groupby)\n",
    "\n",
    "I recently rediscovered it for functional programming. Here are some examples of how it can be useful.\n",
    "<created>04/30/21</created>\n",
    "<updated></updated>"
   ]
  },
  {
   "cell_type": "markdown",
   "metadata": {
    "collapsed": false
   },
   "source": [
    "## Toolz\n",
    "\n",
    "### Installation\n",
    "```bash\n",
    "pip install toolz\n",
    "```\n",
    "\n",
    "There is also `cytoolz` which is `toolz` written in Cython. When I first picked up `toolz` around Python 3.4 it provided significant performance improvements. Recently (Python 3.8) I've gotten nearly even performance.\n",
    "\n",
    "### Data Pipeline\n",
    "\n",
    "For this example, I'll use the task of extracting data from HTML, a.k.a. <keyword>Web Scraping</keyword>\n",
    "\n",
    "I'm using [Scrape This Site](https://scrapethissite.com/pages/simple/) as an example\n",
    "\n",
    "As you can see, we have 250 countries that we'd like to extract. If we think about our general steps it should look something like:\n",
    "\n",
    "- Select a Country Element\n",
    "    - Select Country Name Element\n",
    "        - Get Country Name Text\n",
    "\n",
    "    - Select Country Info Element\n",
    "        - Select Capital Element\n",
    "            - Get Capital Text\n",
    "\n",
    "    - etc...\n",
    "\n",
    "These are simple operations - selecting or getting. Here's how we could define them with `toolz` and `BeautifulSoup`"
   ]
  },
  {
   "cell_type": "code",
   "execution_count": 1,
   "metadata": {
    "collapsed": false,
    "pycharm": {
     "name": "#%%\n"
    }
   },
   "outputs": [],
   "source": [
    "from toolz import curry, excepts, compose_left\n",
    "\n",
    "\n",
    "@curry\n",
    "def select(element, sel, method):\n",
    "    if method == 'one':\n",
    "        return element.select_one(sel)\n",
    "    return element.select(sel)\n",
    "\n",
    "\n",
    "@curry\n",
    "def get_text(element):\n",
    "    return element.text.strip()\n",
    "\n",
    "\n",
    "@curry\n",
    "def cast_to(x, to_type):\n",
    "    return to_type(x)\n",
    "\n",
    "@curry\n",
    "def for_each(coll, func):\n",
    "    return [func(c) for c in coll]\n",
    "\n",
    "\n",
    "select_all = select(method='all')\n",
    "select_one = select(method='one')\n",
    "select_countries = select(sel=\"div.country\")\n",
    "to_int = cast_to(to_type=int)\n",
    "to_float = cast_to(to_type=float)\n",
    "\n",
    "\n",
    "get_country_name = compose_left(select_one(sel=\"h3.country-name\"), get_text)\n",
    "get_country_info = select_one(sel=\"div.country-info\")\n",
    "get_country_capital = compose_left(get_country_info, select_one(sel=\"span.country-capital\"), get_text)\n",
    "get_country_pop = compose_left(get_country_info, select_one(sel=\"span.country-population\"), get_text, to_int)\n",
    "get_country_area = compose_left(get_country_info, select_one(sel=\"span.country-area\"), get_text, to_float)"
   ]
  },
  {
   "cell_type": "markdown",
   "metadata": {
    "collapsed": false,
    "pycharm": {
     "name": "#%% md\n"
    }
   },
   "source": [
    "I love how succinct it is. We can pipe an input through several functions in 1-2 lines.\n",
    "\n",
    "So how do we handle exceptions? What if an element does not exist?"
   ]
  },
  {
   "cell_type": "code",
   "execution_count": 2,
   "metadata": {
    "collapsed": false,
    "pycharm": {
     "name": "#%%\n"
    }
   },
   "outputs": [],
   "source": [
    "# Apply excepts where ever it makes sense.\n",
    "\n",
    "@curry\n",
    "def in_case(ex, func, handler=lambda _: None):\n",
    "    return excepts(ex, func, handler)\n",
    "\n",
    "\n",
    "get_country_name = in_case(AttributeError, compose_left(select_one(sel=\"h3.country-name\"), get_text))\n",
    "get_country_info = select_one(sel=\"div.country-info\")\n",
    "get_country_capital = in_case(AttributeError,\n",
    "                              compose_left(get_country_info, select_one(sel=\"span.country-capital\"), get_text))\n",
    "get_country_pop = in_case((AttributeError, ValueError),\n",
    "                          compose_left(get_country_info, select_one(sel=\"span.country-population\"), get_text, to_int))\n",
    "get_country_area = in_case(AttributeError, ValueError,\n",
    "                           compose_left(get_country_info, select_one(sel=\"span.country-area\"), get_text, to_float))\n"
   ]
  }
 ],
 "metadata": {
  "kernelspec": {
   "display_name": "Python 3",
   "language": "python",
   "name": "python3"
  },
  "language_info": {
   "codemirror_mode": {
    "name": "ipython",
    "version": 2
   },
   "file_extension": ".py",
   "mimetype": "text/x-python",
   "name": "python",
   "nbconvert_exporter": "python",
   "pygments_lexer": "ipython2",
   "version": "2.7.6"
  }
 },
 "nbformat": 4,
 "nbformat_minor": 0
}